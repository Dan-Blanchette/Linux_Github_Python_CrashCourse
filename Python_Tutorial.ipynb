{
  "nbformat": 4,
  "nbformat_minor": 0,
  "metadata": {
    "colab": {
      "provenance": [],
      "toc_visible": true,
      "authorship_tag": "ABX9TyOBmmk3Y+PrmCT5Gv6gTZFi",
      "include_colab_link": true
    },
    "kernelspec": {
      "name": "python3",
      "display_name": "Python 3"
    },
    "language_info": {
      "name": "python"
    }
  },
  "cells": [
    {
      "cell_type": "markdown",
      "metadata": {
        "id": "view-in-github",
        "colab_type": "text"
      },
      "source": [
        "<a href=\"https://colab.research.google.com/github/Dan-Blanchette/Linux_Github_Python_CrashCourse/blob/main/Python_Tutorial.ipynb\" target=\"_parent\"><img src=\"https://colab.research.google.com/assets/colab-badge.svg\" alt=\"Open In Colab\"/></a>"
      ]
    },
    {
      "cell_type": "markdown",
      "source": [
        "# Welcome To Python Writing Your First Program\n",
        "1. Good Programming Practices\n",
        "  - always be sure to give yourself credit for your implementation. If you reference any exterior site, be sure to include a link to the code you used. Plagerism ethics exists in software as well.\n"
      ],
      "metadata": {
        "id": "zp2vguf_OwVN"
      }
    },
    {
      "cell_type": "code",
      "execution_count": null,
      "metadata": {
        "colab": {
          "base_uri": "https://localhost:8080/"
        },
        "id": "KkYq6Z4jOtaa",
        "outputId": "955164cd-791a-4c39-bc38-f4fbb874a1ce"
      },
      "outputs": [
        {
          "output_type": "stream",
          "name": "stdout",
          "text": [
            "Hello World!\n"
          ]
        }
      ],
      "source": [
        "'''\n",
        "@author: Your Name\n",
        "@date: Last Time You Made Changes\n",
        "@program description: What your Progam does or is going to do (This program will print hello world to the terminal)\n",
        "'''\n",
        "\n",
        "# print hello world in python\n",
        "print(\"Hello World!\")"
      ]
    },
    {
      "cell_type": "markdown",
      "source": [
        "# The Importance of Print Statements\n",
        "1. You can format data to be communicated to your user or yourself.\n",
        "2. Great tool for debugging\n",
        "3. Can help you figure out if certain instructions in your code are being excuted"
      ],
      "metadata": {
        "id": "fBD1y5dSQKV9"
      }
    },
    {
      "cell_type": "markdown",
      "source": [
        "# Variables and Data-Types\n",
        "## There are a few different data types in programming\n",
        "1. int: integers\n",
        "2. floats: scientific notation digits\n",
        "3. char: characters any key that exists on your keyboard is considered to be a char datatype.\n",
        "  - chars are often represented in single quotes IE: 'e', 'a'\n",
        "4. strings: words and sentences represented in double quotes \"Hello World!\"\n",
        "5. boolean: True or False(0 or 1)"
      ],
      "metadata": {
        "id": "KG0btwPpQqyQ"
      }
    },
    {
      "cell_type": "markdown",
      "source": [
        "# Python is a Typeless Language\n",
        "1. Python assigns the correct data type based on what you set a variable to. Like in algebra where x = some value, in programming we get to do the same type of assignments."
      ],
      "metadata": {
        "id": "ewba_obqSeYK"
      }
    },
    {
      "cell_type": "markdown",
      "source": [
        "# Ints and Floats"
      ],
      "metadata": {
        "id": "IkyixGdrYJHg"
      }
    },
    {
      "cell_type": "code",
      "source": [
        "# Python library\n",
        "import math\n",
        "'''\n",
        "@author: Dan B\n",
        "@date: May 13, 2023\n",
        "@program description: This program will teach students how to assign variables and check output with print statements\n",
        "'''\n",
        "\n",
        "# Let's Implement The Pythagorean Theorem,.... the hard way\n",
        "a = 2\n",
        "b = 3\n",
        "# for programs that will run once, it is a good practice to initialize \"empty variables as 0\"\n",
        "c = 0\n",
        "\n",
        "# Math!\n",
        "print(\"The value of a is: \", a)\n",
        "print(\"The value of b is: \", b)\n",
        "\n",
        "# Pythagorean Theorem\n",
        "c = math.sqrt((a * a) + (b * b))\n",
        "# What Datatype do you think will be the output?\n",
        "print(\"The hypotenuse is: \", c)\n",
        "\n",
        "# Let's try casting this to a different datatype\n",
        "print(\"The hypotenuse is: \", int((c)))\n"
      ],
      "metadata": {
        "colab": {
          "base_uri": "https://localhost:8080/"
        },
        "id": "DL4naw1SQovT",
        "outputId": "e84aceb9-c4c8-4788-da9f-ddd6511c6b81"
      },
      "execution_count": null,
      "outputs": [
        {
          "output_type": "stream",
          "name": "stdout",
          "text": [
            "The value of a is:  2\n",
            "The value of b is:  3\n",
            "The hypotenuse is:  3\n"
          ]
        }
      ]
    },
    {
      "cell_type": "markdown",
      "source": [
        "# Chars\n",
        "### Let's try assigning some char variables"
      ],
      "metadata": {
        "id": "xnNJWHZxVD21"
      }
    },
    {
      "cell_type": "code",
      "source": [
        "a = 'a'\n",
        "b = 'b'\n",
        "c = 'c'\n",
        "one = '1'\n",
        "two = '2'\n",
        "three = '3'\n",
        "\n",
        "# using type to check your data types\n",
        "# use print for debugging \n",
        "print(type(one))\n",
        "\n",
        "print(a,b,c,\"easy as\", one, two, three)\n",
        "# print(a,\",\",b,\",\",c,\",\",\"easy as\", one, \",\", two, \",\", three, \",\")\n"
      ],
      "metadata": {
        "colab": {
          "base_uri": "https://localhost:8080/"
        },
        "id": "lBk0ratSVQYF",
        "outputId": "870c5963-401d-4112-c231-29328f929b0d"
      },
      "execution_count": null,
      "outputs": [
        {
          "output_type": "stream",
          "name": "stdout",
          "text": [
            "<class 'str'>\n",
            "a b c easy as 1 2 3\n"
          ]
        }
      ]
    },
    {
      "cell_type": "markdown",
      "source": [
        "# What is a String?\n",
        "- You can think of a string as a bunch of chars condensed into a single data type. In fact that's how they work! For this portion, we will look at a couple ways we can mess around with strings and how a string is put together using something called a list."
      ],
      "metadata": {
        "id": "SEqZyxVCZJCv"
      }
    },
    {
      "cell_type": "code",
      "source": [
        "# so far we've learned that you can print a string by typing a message between two double quotes (\"\")\n",
        "print(\"Hello_World!\")\n",
        "\n",
        "# However, Python knows the string data type when assigning it to a variable\n",
        "message = \"Hello_World!\"\n",
        "print(message)\n",
        "\n",
        "'''\n",
        " This is just a couple ways we can do the same thing. The second implementation \n",
        " allows us to reuse the same message throughout our program instead of typing it \n",
        " in over and over again using the double quotes.\n",
        "'''"
      ],
      "metadata": {
        "id": "9dwPOE3bcLjR",
        "outputId": "ab817102-e19a-4bc1-8413-e708a647984a",
        "colab": {
          "base_uri": "https://localhost:8080/"
        }
      },
      "execution_count": 1,
      "outputs": [
        {
          "output_type": "stream",
          "name": "stdout",
          "text": [
            "Hello_World!\n",
            "Hello_World!\n"
          ]
        }
      ]
    },
    {
      "cell_type": "markdown",
      "source": [
        "# What is a List and how is it related to a string?\n",
        "- A list is a collection of data stored in something we traditionally call and array or if you prefer a vector."
      ],
      "metadata": {
        "id": "5CdxiW1xdgUe"
      }
    },
    {
      "cell_type": "code",
      "source": [
        "# For lists we can mix and match data types (this is no permissible in C and C++)\n",
        "list1 = ['Dan', 37, 12.3957, \"Hello_World!\"]\n",
        "# we can print the whole list the same way we just printed the message moments ago.\n",
        "print(list1)\n",
        "\n",
        "# however, what if we only wanted one thing from the list? like 'Dan' or \"Hello_World?'\n",
        "\n",
        "# Dan\n",
        "\n",
        "# Hello World\n",
        "\n",
        "# This is called accessing an element of the array(aka list)\n",
        "\n",
        "# when you typed in hello_world between the double quotes here's what \n",
        "# the computer is doing with your message under the hood.\n",
        "\n",
        "helloList = ['H','e','l','l','o','_','W','o','r','l','d']\n",
        "\n",
        "print(helloList[0] + helloList[1] +helloList[2] + helloList[3] + helloList[4] +\n",
        "      helloList[5] + helloList[6] +helloList[7] + helloList[8] + helloList[9] +\n",
        "      helloList[10])\n",
        "\n",
        "# An easy way to tell how many elements long is your list\n",
        "# remember that counts start at 0. Even though the total from len is 11,\n",
        "# because of the counting convention it is (n-1) for the list (0 - 10).\n",
        "len(helloList)\n",
        "\n",
        "# what happens if we give the list 11 as an element\n",
        "# helloList[11]"
      ],
      "metadata": {
        "id": "jENAfhrhdnER",
        "outputId": "87a847a5-d62b-4945-aeca-bdd207cf6cc3",
        "colab": {
          "base_uri": "https://localhost:8080/"
        }
      },
      "execution_count": 13,
      "outputs": [
        {
          "output_type": "stream",
          "name": "stdout",
          "text": [
            "['Dan', 37, 12.3957, 'Hello_World!']\n",
            "Hello_World\n"
          ]
        },
        {
          "output_type": "execute_result",
          "data": {
            "text/plain": [
              "11"
            ]
          },
          "metadata": {},
          "execution_count": 13
        }
      ]
    }
  ]
}