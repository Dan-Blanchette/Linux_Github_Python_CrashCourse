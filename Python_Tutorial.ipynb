{
  "nbformat": 4,
  "nbformat_minor": 0,
  "metadata": {
    "colab": {
      "provenance": [],
      "toc_visible": true,
      "authorship_tag": "ABX9TyONwC1IIuzP2TkAQu7/wqMq",
      "include_colab_link": true
    },
    "kernelspec": {
      "name": "python3",
      "display_name": "Python 3"
    },
    "language_info": {
      "name": "python"
    }
  },
  "cells": [
    {
      "cell_type": "markdown",
      "metadata": {
        "id": "view-in-github",
        "colab_type": "text"
      },
      "source": [
        "<a href=\"https://colab.research.google.com/github/Dan-Blanchette/Linux_Github_Python_CrashCourse/blob/main/Python_Tutorial.ipynb\" target=\"_parent\"><img src=\"https://colab.research.google.com/assets/colab-badge.svg\" alt=\"Open In Colab\"/></a>"
      ]
    },
    {
      "cell_type": "markdown",
      "source": [
        "# Welcome To Python Writing Your First Program\n",
        "1. Good Programming Practices\n",
        "  - always be sure to give yourself credit for your implementation. If you reference any exterior site, be sure to include a link to the code you used. Plagerism ethics exists in software as well.\n"
      ],
      "metadata": {
        "id": "zp2vguf_OwVN"
      }
    },
    {
      "cell_type": "code",
      "execution_count": null,
      "metadata": {
        "colab": {
          "base_uri": "https://localhost:8080/"
        },
        "id": "KkYq6Z4jOtaa",
        "outputId": "955164cd-791a-4c39-bc38-f4fbb874a1ce"
      },
      "outputs": [
        {
          "output_type": "stream",
          "name": "stdout",
          "text": [
            "Hello World!\n"
          ]
        }
      ],
      "source": [
        "'''\n",
        "@author: Your Name\n",
        "@date: Last Time You Made Changes\n",
        "@program description: What your Progam does or is going to do (This program will print hello world to the terminal)\n",
        "'''\n",
        "\n",
        "# print hello world in python\n",
        "print(\"Hello World!\")"
      ]
    },
    {
      "cell_type": "markdown",
      "source": [
        "# The Importance of Print Statements\n",
        "1. You can format data to be communicated to your user or yourself.\n",
        "2. Great tool for debugging\n",
        "3. Can help you figure out if certain instructions in your code are being excuted"
      ],
      "metadata": {
        "id": "fBD1y5dSQKV9"
      }
    },
    {
      "cell_type": "markdown",
      "source": [
        "# Variables and Data-Types\n",
        "## There are a few different data types in programming\n",
        "1. int: integers\n",
        "2. floats: scientific notation digits\n",
        "3. char: characters any key that exists on your keyboard is considered to be a char datatype.\n",
        "  - chars are often represented in single quotes IE: 'e', 'a'\n",
        "4. strings: words and sentences represented in double quotes \"Hello World!\"\n",
        "5. boolean: True or False(0 or 1)"
      ],
      "metadata": {
        "id": "KG0btwPpQqyQ"
      }
    },
    {
      "cell_type": "markdown",
      "source": [
        "# Python is a Typeless Language\n",
        "1. Python assigns the correct data type based on what you set a variable to. Like in algebra where x = some value, in programming we get to do the same type of assignments."
      ],
      "metadata": {
        "id": "ewba_obqSeYK"
      }
    },
    {
      "cell_type": "markdown",
      "source": [
        "# Ints and Floats"
      ],
      "metadata": {
        "id": "IkyixGdrYJHg"
      }
    },
    {
      "cell_type": "code",
      "source": [
        "# Python library\n",
        "import math\n",
        "'''\n",
        "@author: Dan B\n",
        "@date: May 13, 2023\n",
        "@program description: This program will teach students how to assign variables and check output with print statements\n",
        "'''\n",
        "\n",
        "# Let's Implement The Pythagorean Theorem,.... the hard way\n",
        "a = 2\n",
        "b = 3\n",
        "# for programs that will run once, it is a good practice to initialize \"empty variables as 0\"\n",
        "c = 0\n",
        "\n",
        "# Math!\n",
        "print(\"The value of a is: \", a)\n",
        "print(\"The value of b is: \", b)\n",
        "\n",
        "# Pythagorean Theorem\n",
        "c = math.sqrt((a * a) + (b * b))\n",
        "# What Datatype do you think will be the output?\n",
        "print(\"The hypotenuse is: \", c)\n",
        "\n",
        "# Let's try casting this to a different datatype\n",
        "print(\"The hypotenuse is: \", int((c)))\n"
      ],
      "metadata": {
        "colab": {
          "base_uri": "https://localhost:8080/"
        },
        "id": "DL4naw1SQovT",
        "outputId": "e84aceb9-c4c8-4788-da9f-ddd6511c6b81"
      },
      "execution_count": null,
      "outputs": [
        {
          "output_type": "stream",
          "name": "stdout",
          "text": [
            "The value of a is:  2\n",
            "The value of b is:  3\n",
            "The hypotenuse is:  3\n"
          ]
        }
      ]
    },
    {
      "cell_type": "markdown",
      "source": [
        "# Chars\n",
        "### Let's try assigning some char variables"
      ],
      "metadata": {
        "id": "xnNJWHZxVD21"
      }
    },
    {
      "cell_type": "code",
      "source": [
        "a = 'a'\n",
        "b = 'b'\n",
        "c = 'c'\n",
        "one = '1'\n",
        "two = '2'\n",
        "three = '3'\n",
        "\n",
        "# using type to check your data types\n",
        "# use print for debugging \n",
        "print(type(one))\n",
        "\n",
        "print(a,b,c,\"easy as\", one, two, three)\n",
        "# print(a,\",\",b,\",\",c,\",\",\"easy as\", one, \",\", two, \",\", three, \",\")\n"
      ],
      "metadata": {
        "colab": {
          "base_uri": "https://localhost:8080/"
        },
        "id": "lBk0ratSVQYF",
        "outputId": "870c5963-401d-4112-c231-29328f929b0d"
      },
      "execution_count": null,
      "outputs": [
        {
          "output_type": "stream",
          "name": "stdout",
          "text": [
            "<class 'str'>\n",
            "a b c easy as 1 2 3\n"
          ]
        }
      ]
    },
    {
      "cell_type": "markdown",
      "source": [
        "# What is a String?\n",
        "- You can think of a string as a bunch of chars condensed into a single data type. In fact that's how they work! For this portion, we will look at a couple ways we can mess around with strings and how a string is put together using something called a list."
      ],
      "metadata": {
        "id": "SEqZyxVCZJCv"
      }
    },
    {
      "cell_type": "code",
      "source": [
        "# so far we've learned that you can print a string by typing a message between two double quotes (\"\")\n",
        "print(\"Hello_World!\")\n",
        "\n",
        "# However, Python knows the string data type when assigning it to a variable\n",
        "message = \"Hello_World!\"\n",
        "print(message)\n",
        "\n",
        "'''\n",
        " This is just a couple ways we can do the same thing. The second implementation \n",
        " allows us to reuse the same message throughout our program instead of typing it \n",
        " in over and over again using the double quotes.\n",
        "'''"
      ],
      "metadata": {
        "colab": {
          "base_uri": "https://localhost:8080/"
        },
        "id": "9dwPOE3bcLjR",
        "outputId": "ab817102-e19a-4bc1-8413-e708a647984a"
      },
      "execution_count": 1,
      "outputs": [
        {
          "output_type": "stream",
          "name": "stdout",
          "text": [
            "Hello_World!\n",
            "Hello_World!\n"
          ]
        }
      ]
    },
    {
      "cell_type": "markdown",
      "source": [
        "# What is a List and how is it related to a string?\n",
        "- A list is a collection of data stored in something we traditionally call and array or if you prefer a vector."
      ],
      "metadata": {
        "id": "5CdxiW1xdgUe"
      }
    },
    {
      "cell_type": "code",
      "source": [
        "# For lists we can mix and match data types (this is no permissible in C and C++)\n",
        "list1 = ['Dan', 37, 12.3957, \"Hello_World!\"]\n",
        "# we can print the whole list the same way we just printed the message moments ago.\n",
        "print(list1)\n",
        "\n",
        "# however, what if we only wanted one thing from the list? like 'Dan' or \"Hello_World?'\n",
        "\n",
        "# Dan\n",
        "\n",
        "# Hello World\n",
        "\n",
        "# This is called accessing an element of the array(aka list)\n",
        "\n",
        "# when you typed in hello_world between the double quotes here's what \n",
        "# the computer is doing with your message under the hood.\n",
        "\n",
        "helloList = ['H','e','l','l','o','_','W','o','r','l','d']\n",
        "\n",
        "print(helloList[0] + helloList[1] +helloList[2] + helloList[3] + helloList[4] +\n",
        "      helloList[5] + helloList[6] +helloList[7] + helloList[8] + helloList[9] +\n",
        "      helloList[10])\n",
        "\n",
        "# An easy way to tell how many elements long is your list\n",
        "# remember that counts start at 0. Even though the total from len is 11,\n",
        "# because of the counting convention it is (n-1) for the list (0 - 10).\n",
        "len(helloList)\n",
        "\n",
        "# what happens if we give the list 11 as an element\n",
        "# helloList[11]"
      ],
      "metadata": {
        "colab": {
          "base_uri": "https://localhost:8080/"
        },
        "id": "jENAfhrhdnER",
        "outputId": "87a847a5-d62b-4945-aeca-bdd207cf6cc3"
      },
      "execution_count": 13,
      "outputs": [
        {
          "output_type": "stream",
          "name": "stdout",
          "text": [
            "['Dan', 37, 12.3957, 'Hello_World!']\n",
            "Hello_World\n"
          ]
        },
        {
          "output_type": "execute_result",
          "data": {
            "text/plain": [
              "11"
            ]
          },
          "metadata": {},
          "execution_count": 13
        }
      ]
    },
    {
      "cell_type": "markdown",
      "source": [
        "# More on Lists\n",
        "- let's say we needed to add something new to a list or remove some entries that weren't relevant to a data set. How would we do this?"
      ],
      "metadata": {
        "id": "hPuYlDxOg7M2"
      }
    },
    {
      "cell_type": "code",
      "source": [
        "# Introducing member functions\n",
        "video_games = [\"Legend of Zelda\", \"Super Mario Odessey\", \"Elden Ring\", \"Zork\", \"Tales of Arise\"]\n",
        "print(video_games)\n",
        "# Maybe we want what at the end of the list first. To do this we can use a member function called .reverse()\n",
        "video_games.reverse()\n",
        "print(video_games)\n",
        "\n",
        "# Let's sort our list in ascending alphabetical order NOTE: this only works for lists that have the same data type\n",
        "# list1 above would not be able to use this method for example.\n",
        "video_games.sort()\n",
        "print(video_games)\n",
        "\n",
        "# in descending order\n",
        "video_games.sort(reverse=True)\n",
        "print(video_games)\n",
        "\n",
        "\n",
        "\n",
        "# let's remove Hello_World from our List (it's worn out its welcome!).\n",
        "# list1[3].remove()\n",
        "# print(list1)"
      ],
      "metadata": {
        "id": "OtgwVZuWhHrX",
        "outputId": "d4e40215-0af6-40b7-f3d5-f6be3dd9e5f7",
        "colab": {
          "base_uri": "https://localhost:8080/"
        }
      },
      "execution_count": 23,
      "outputs": [
        {
          "output_type": "stream",
          "name": "stdout",
          "text": [
            "['Legend of Zelda', 'Super Mario Odessey', 'Elden Ring', 'Zork', 'Tales of Arise']\n",
            "['Tales of Arise', 'Zork', 'Elden Ring', 'Super Mario Odessey', 'Legend of Zelda']\n",
            "['Elden Ring', 'Legend of Zelda', 'Super Mario Odessey', 'Tales of Arise', 'Zork']\n",
            "['Zork', 'Tales of Arise', 'Super Mario Odessey', 'Legend of Zelda', 'Elden Ring']\n"
          ]
        }
      ]
    },
    {
      "cell_type": "markdown",
      "source": [
        "# Looping Through Lists: The \"for loop\""
      ],
      "metadata": {
        "id": "ZbtJf6EckG2U"
      }
    },
    {
      "cell_type": "code",
      "source": [
        "# maybe we want to print out each element one at a time from the list instead of just displaying it\n",
        "video_games = [\"Legend of Zelda\", \"Super Mario Odessey\", \"Elden Ring\", \"Zork\", \"Tales of Arise\"]\n",
        "\n",
        "# We could do it this way\n",
        "print(len(video_games))\n",
        "\n",
        "# print(video_games[0])\n",
        "# print(video_games[1])\n",
        "# print(video_games[2])\n",
        "# print(video_games[3])\n",
        "# print(video_games[4])\n",
        "\n",
        "# But what if I told you there was an easier way?\n",
        "# Let's try a for loop!\n",
        "\n",
        "for video_game_title in video_games:\n",
        "  print(video_game_title)"
      ],
      "metadata": {
        "id": "zo-2BOO0kLMQ",
        "outputId": "3c658eb6-a666-4cc7-b730-9fefedda90fe",
        "colab": {
          "base_uri": "https://localhost:8080/"
        }
      },
      "execution_count": 31,
      "outputs": [
        {
          "output_type": "stream",
          "name": "stdout",
          "text": [
            "5\n",
            "Legend of Zelda\n",
            "Super Mario Odessey\n",
            "Elden Ring\n",
            "Zork\n",
            "Tales of Arise\n"
          ]
        }
      ]
    },
    {
      "cell_type": "markdown",
      "source": [
        "# For Loops are iteration based loops\n",
        "- As programmer's we tell the loop how long it needs to repeat a process before it terminates.\n",
        "- For loops on their own are only O(n) time complexity (constant time)\n",
        "- Nested for loops become exponentially expensive for each for loop"
      ],
      "metadata": {
        "id": "eEvwsENClbcF"
      }
    },
    {
      "cell_type": "code",
      "source": [
        "# another way to use a for loop is if you need it for a sequence\n",
        "for i in range(10):\n",
        "  print(i)\n",
        "# notice i started at a value of 0 and stopped at a value (n-1) from the max range value\n",
        "# Lets combine what we learned about lists and combine it with for loops\n",
        "\n",
        "# first let's make an empty list\n",
        "numbers = []\n",
        "\n",
        "# Now we'll make a list of numbers from 0 - 99 \n",
        "# How can we set up a for loop to do this for us and make our lives easier?\n",
        "for i in range(0, 100):\n",
        "  numbers.append(i)\n",
        "\n",
        "print(len(numbers))\n",
        "print(numbers)\n",
        "\n",
        "# if we want even numbers from the same list\n",
        "\n",
        "enumbers = []\n",
        "for i in range(0, 100, 2):\n",
        "  enumbers.append(i)\n",
        "\n",
        "print(len(enumbers))\n",
        "print(enumbers)"
      ],
      "metadata": {
        "id": "EvW5nfirlpEH",
        "outputId": "a3831ce2-f243-4294-81d1-491221bf18e1",
        "colab": {
          "base_uri": "https://localhost:8080/"
        }
      },
      "execution_count": 40,
      "outputs": [
        {
          "output_type": "stream",
          "name": "stdout",
          "text": [
            "0\n",
            "1\n",
            "2\n",
            "3\n",
            "4\n",
            "5\n",
            "6\n",
            "7\n",
            "8\n",
            "9\n",
            "100\n",
            "[0, 1, 2, 3, 4, 5, 6, 7, 8, 9, 10, 11, 12, 13, 14, 15, 16, 17, 18, 19, 20, 21, 22, 23, 24, 25, 26, 27, 28, 29, 30, 31, 32, 33, 34, 35, 36, 37, 38, 39, 40, 41, 42, 43, 44, 45, 46, 47, 48, 49, 50, 51, 52, 53, 54, 55, 56, 57, 58, 59, 60, 61, 62, 63, 64, 65, 66, 67, 68, 69, 70, 71, 72, 73, 74, 75, 76, 77, 78, 79, 80, 81, 82, 83, 84, 85, 86, 87, 88, 89, 90, 91, 92, 93, 94, 95, 96, 97, 98, 99]\n",
            "50\n",
            "[0, 2, 4, 6, 8, 10, 12, 14, 16, 18, 20, 22, 24, 26, 28, 30, 32, 34, 36, 38, 40, 42, 44, 46, 48, 50, 52, 54, 56, 58, 60, 62, 64, 66, 68, 70, 72, 74, 76, 78, 80, 82, 84, 86, 88, 90, 92, 94, 96, 98]\n"
          ]
        }
      ]
    },
    {
      "cell_type": "markdown",
      "source": [
        "# Let's look at a bit more advanced list called a list of lists or 2D array(matrix)"
      ],
      "metadata": {
        "id": "K42gmowmpirp"
      }
    },
    {
      "cell_type": "code",
      "source": [
        "list2D=[]\n",
        "rows, cols=5,5\n",
        "for i in range(rows):\n",
        "\tcol = []\n",
        "\tfor j in range(cols):\n",
        "\t\tcol.append(i)\n",
        "\tlist2D.append(col)\n",
        "print(list2D)\n"
      ],
      "metadata": {
        "id": "lwVkNOHJptIr",
        "outputId": "b74e009b-0dba-4437-9bc3-d53a62f54da1",
        "colab": {
          "base_uri": "https://localhost:8080/"
        }
      },
      "execution_count": 47,
      "outputs": [
        {
          "output_type": "stream",
          "name": "stdout",
          "text": [
            "[[0, 0, 0, 0, 0], [1, 1, 1, 1, 1], [2, 2, 2, 2, 2], [3, 3, 3, 3, 3], [4, 4, 4, 4, 4]]\n"
          ]
        }
      ]
    },
    {
      "cell_type": "markdown",
      "source": [
        "## Iterating through tradional Python arrays is inefficient and costly\n",
        "\n",
        "1. In the above example, we have two for loops making up a 2D array of values. The time cost to generate this list is O(n^2) and as we keep nexting for loops, the time efficiency is effected exponentially.\n",
        "2. What this means for you and your programs is that they will take unescessarily long to run and cost more memory in your computer to do it. This can lead to crashes or system locks(aka the blue screen of death).\n",
        "3. In the case of a 2D or 3D list, we have little choice when we iterate through them. However, we will cover other libraries that can help make our programs more efficient in Python.\n",
        "\n",
        "## For more on 2D lists check out: [GeeksForGeeeks](https://www.geeksforgeeks.org/python-using-2d-arrays-lists-the-right-way/)"
      ],
      "metadata": {
        "id": "nqhMt61frhx-"
      }
    },
    {
      "cell_type": "markdown",
      "source": [
        "# If Statements and Control Flow(Time to Get Discrete!)\n",
        "1. Small Introduction to Formal Logic and Truth Tables"
      ],
      "metadata": {
        "id": "5BjIFUx6o8J1"
      }
    },
    {
      "cell_type": "code",
      "source": [],
      "metadata": {
        "id": "GWJ4AfyVpE0K"
      },
      "execution_count": null,
      "outputs": []
    }
  ]
}