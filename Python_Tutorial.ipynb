{
  "nbformat": 4,
  "nbformat_minor": 0,
  "metadata": {
    "colab": {
      "provenance": [],
      "authorship_tag": "ABX9TyOz2fGg7axbO84I5URfoT2P",
      "include_colab_link": true
    },
    "kernelspec": {
      "name": "python3",
      "display_name": "Python 3"
    },
    "language_info": {
      "name": "python"
    }
  },
  "cells": [
    {
      "cell_type": "markdown",
      "metadata": {
        "id": "view-in-github",
        "colab_type": "text"
      },
      "source": [
        "<a href=\"https://colab.research.google.com/github/Dan-Blanchette/Linux_Github_Python_CrashCourse/blob/main/Python_Tutorial.ipynb\" target=\"_parent\"><img src=\"https://colab.research.google.com/assets/colab-badge.svg\" alt=\"Open In Colab\"/></a>"
      ]
    },
    {
      "cell_type": "markdown",
      "source": [
        "# Welcome To Python!\n",
        "## Writing Your First Program\n",
        "1. Good Programming Practices\n",
        "  - Always be sure to give yourself credit for your implementation.\n",
        "  - If you reference any exterior sites, be sure to include a link to the code you used.\n",
        "  - Plagerism ethics exists in software as well.\n"
      ],
      "metadata": {
        "id": "zp2vguf_OwVN"
      }
    },
    {
      "cell_type": "code",
      "execution_count": null,
      "metadata": {
        "colab": {
          "base_uri": "https://localhost:8080/"
        },
        "id": "KkYq6Z4jOtaa",
        "outputId": "3f8a90d2-7eef-4a59-e05a-36bc22f42a86"
      },
      "outputs": [
        {
          "output_type": "stream",
          "name": "stdout",
          "text": [
            "Hello World!\n"
          ]
        }
      ],
      "source": [
        "'''\n",
        "@author: Your Name\n",
        "@date: Last Time You Made Changes\n",
        "@program description: What your Program does or is going to do (This program will print hello world to the terminal)\n",
        "'''\n",
        "\n",
        "# print hello world in python\n",
        "print(\"Hello World!\")"
      ]
    },
    {
      "cell_type": "markdown",
      "source": [
        "# The Importance of Print Statements\n",
        "1. You can format data to be communicated to your user or yourself.\n",
        "2. Great tool for debugging\n",
        "3. Can help you figure out if certain instructions in your code are being excuted"
      ],
      "metadata": {
        "id": "fBD1y5dSQKV9"
      }
    },
    {
      "cell_type": "markdown",
      "source": [
        "# Operators\n",
        "### In coding there are many mathematical and logical operators that you can use to provide instructions to your programs.\n",
        "\n",
        "\n",
        "\n",
        "```\n",
        "# The basic ones are addition, subtraction, multiplication, and division\n",
        "+, -, *, /,\n",
        "\n",
        "# combination operators: plus equals(add 1), minus equals(subtract 1), multiply equals(multiply by a value), and divide equals(divide by a value)\n",
        "+=, -=, *=, /=\n",
        "\n",
        "# Domain and Logic Operators:\n",
        "# <, >, <=, >=, ==(equal to), !=(not equal to)\n",
        "# and, or, not\n",
        "\n",
        "# bitwise\n",
        "# & binary AND\n",
        "# | binary OR\n",
        "\n",
        "```\n",
        "\n"
      ],
      "metadata": {
        "id": "MU_mNJhrksIp"
      }
    },
    {
      "cell_type": "code",
      "source": [
        "# AND examples\n",
        "a = 1\n",
        "b = 1\n",
        "if(a & b):\n",
        "  print(True)\n",
        "else:\n",
        "  print(False)\n",
        "\n",
        "a = 0\n",
        "b = 1\n",
        "if(a & b):\n",
        "  print(True)\n",
        "else:\n",
        "  print(False)"
      ],
      "metadata": {
        "id": "l7oFjlbhpr1m",
        "outputId": "43f06ae0-226f-498a-bc7e-5905ec172001",
        "colab": {
          "base_uri": "https://localhost:8080/"
        }
      },
      "execution_count": null,
      "outputs": [
        {
          "output_type": "stream",
          "name": "stdout",
          "text": [
            "True\n",
            "False\n"
          ]
        }
      ]
    },
    {
      "cell_type": "code",
      "source": [
        "# OR examples\n",
        "a = 1\n",
        "b = 1\n",
        "if(a | b):\n",
        "  print(True)\n",
        "else:\n",
        "  print(False)\n",
        "\n",
        "a = 0\n",
        "b = 1\n",
        "if(a | b):\n",
        "  print(True)\n",
        "else:\n",
        "  print(False)\n",
        "\n",
        "a = 0\n",
        "b = 0\n",
        "if(a | b):\n",
        "  print(True)\n",
        "else:\n",
        "  print(False)"
      ],
      "metadata": {
        "id": "3Ue6Re6spo0d",
        "outputId": "410b8c32-0ff5-4720-8541-4f21ef763dfc",
        "colab": {
          "base_uri": "https://localhost:8080/"
        }
      },
      "execution_count": null,
      "outputs": [
        {
          "output_type": "stream",
          "name": "stdout",
          "text": [
            "True\n",
            "True\n",
            "False\n"
          ]
        }
      ]
    },
    {
      "cell_type": "markdown",
      "source": [
        "# Variables and Data-Types\n",
        "## There are a few different data types in programming\n",
        "1. int: integers\n",
        "2. floats: scientific notation digits\n",
        "3. char: characters any key that exists on your keyboard is considered to be a char datatype.\n",
        "  - chars are often represented in single quotes IE: 'e', 'a'\n",
        "4. strings: words and sentences represented in double quotes \"Hello World!\"\n",
        "5. boolean: True or False(0 or 1)"
      ],
      "metadata": {
        "id": "KG0btwPpQqyQ"
      }
    },
    {
      "cell_type": "markdown",
      "source": [
        "# Python is a Typeless Language\n",
        "1. Python assigns the correct data type based on what you set a variable to. Like in algebra where x = some value, in programming we get to do the same type of assignments."
      ],
      "metadata": {
        "id": "ewba_obqSeYK"
      }
    },
    {
      "cell_type": "markdown",
      "source": [
        "# Ints and Floats"
      ],
      "metadata": {
        "id": "IkyixGdrYJHg"
      }
    },
    {
      "cell_type": "code",
      "source": [
        "# Python library\n",
        "import math\n",
        "'''\n",
        "@author: Dan B\n",
        "@date: May 13, 2023\n",
        "@program description: This program will teach students how to assign variables and check output with print statements\n",
        "'''\n",
        "\n",
        "# Let's Implement The Pythagorean Theorem,.... the hard way\n",
        "a = 2\n",
        "b = 3\n",
        "# for programs that will run once, it is a good practice to initialize \"empty variables as 0\"\n",
        "# c = 0\n",
        "\n",
        "# Math!\n",
        "print(\"The value of a is: \", a)\n",
        "print(\"The value of b is: \", b)\n",
        "\n",
        "# Pythagorean Theorem\n",
        "c = math.sqrt((a * a) + (b * b))\n",
        "# What Datatype do you think will be the output?\n",
        "print(\"The hypotenuse is: \", c)\n",
        "\n",
        "# Let's try casting this to a different datatype\n",
        "print(\"The hypotenuse is: \", int((c)))\n"
      ],
      "metadata": {
        "colab": {
          "base_uri": "https://localhost:8080/"
        },
        "id": "DL4naw1SQovT",
        "outputId": "2a0fcb56-55e5-4b45-bb1c-907f1dd12014"
      },
      "execution_count": null,
      "outputs": [
        {
          "output_type": "stream",
          "name": "stdout",
          "text": [
            "The value of a is:  2\n",
            "The value of b is:  3\n",
            "The hypotenuse is:  3.605551275463989\n",
            "The hypotenuse is:  3\n"
          ]
        }
      ]
    },
    {
      "cell_type": "markdown",
      "source": [
        "# Chars\n",
        "### Let's try assigning some char variables"
      ],
      "metadata": {
        "id": "xnNJWHZxVD21"
      }
    },
    {
      "cell_type": "code",
      "source": [
        "s = \"hello\"\n",
        "print(s)\n",
        "\n",
        "a = 'e'\n",
        "print(a)\n",
        "\n",
        "a = \"\"\"a\"\"\"\n",
        "print(a)\n",
        "\n",
        "statement = \"\"\"hello there guys'\"\"\"\n",
        "print(statement)"
      ],
      "metadata": {
        "id": "ENgZW9veR2T_",
        "outputId": "0240e0fc-7db2-49ad-87ed-e13ae43ec1e4",
        "colab": {
          "base_uri": "https://localhost:8080/"
        }
      },
      "execution_count": null,
      "outputs": [
        {
          "output_type": "stream",
          "name": "stdout",
          "text": [
            "hello\n",
            "e\n",
            "a\n",
            "hello there guys'\n"
          ]
        }
      ]
    },
    {
      "cell_type": "code",
      "source": [
        "a = 'a'\n",
        "b = 'b'\n",
        "c = 'c'\n",
        "one = '1'\n",
        "two = '2'\n",
        "three = '3'\n",
        "\n",
        "# using type to check your data types\n",
        "# use print for debugging\n",
        "print(type(one))\n",
        "\n",
        "print(a,b,c,\"easy as\", one, two, three)\n",
        "# print(a,\",\",b,\",\",c,\",\",\"easy as\", one, \",\", two, \",\", three, \",\")\n"
      ],
      "metadata": {
        "colab": {
          "base_uri": "https://localhost:8080/"
        },
        "id": "lBk0ratSVQYF",
        "outputId": "870c5963-401d-4112-c231-29328f929b0d"
      },
      "execution_count": null,
      "outputs": [
        {
          "output_type": "stream",
          "name": "stdout",
          "text": [
            "<class 'str'>\n",
            "a b c easy as 1 2 3\n"
          ]
        }
      ]
    },
    {
      "cell_type": "markdown",
      "source": [
        "# What is a String?\n",
        "- You can think of a string as a bunch of chars condensed into a single data type. In fact that's how they work! For this portion, we will look at a couple ways we can mess around with strings and how a string is put together using something called a list."
      ],
      "metadata": {
        "id": "SEqZyxVCZJCv"
      }
    },
    {
      "cell_type": "code",
      "source": [
        "# so far we've learned that you can print a string by typing a message between two double quotes (\"\")\n",
        "print(\"Hello_World!\")\n",
        "\n",
        "# However, Python knows the string data type when assigning it to a variable\n",
        "message = \"Hello_World!\"\n",
        "print(message)\n",
        "\n",
        "'''\n",
        " This is just a couple ways we can do the same thing. The second implementation\n",
        " allows us to reuse the same message throughout our program instead of typing it\n",
        " in over and over again using the double quotes.\n",
        "'''"
      ],
      "metadata": {
        "colab": {
          "base_uri": "https://localhost:8080/"
        },
        "id": "9dwPOE3bcLjR",
        "outputId": "ab817102-e19a-4bc1-8413-e708a647984a"
      },
      "execution_count": null,
      "outputs": [
        {
          "output_type": "stream",
          "name": "stdout",
          "text": [
            "Hello_World!\n",
            "Hello_World!\n"
          ]
        }
      ]
    },
    {
      "cell_type": "code",
      "source": [
        "mylist = [1,2,3]\n",
        "\n",
        "print(mylist)\n",
        "\n",
        "print(mylist[2])"
      ],
      "metadata": {
        "id": "vj4IZz8RT0j0",
        "outputId": "4359fb2c-d5d2-423c-e0a9-fb92513dada0",
        "colab": {
          "base_uri": "https://localhost:8080/"
        }
      },
      "execution_count": null,
      "outputs": [
        {
          "output_type": "stream",
          "name": "stdout",
          "text": [
            "[1, 2, 3]\n",
            "3\n"
          ]
        }
      ]
    },
    {
      "cell_type": "markdown",
      "source": [
        "# Tuples\n",
        "\n",
        "Tuples are a versatile data structure in Python that allow you to store multiple elements. Tuples are similar to lists, but they are immutable, meaning their values cannot be changed after creation. Here's a beginner-friendly tutorial on tuples in Python:\n",
        "\n",
        "1. Creating a Tuple:\n",
        "   To create a tuple, you enclose comma-separated values within parentheses `()`. Alternatively, you can use the `tuple()` function to create a tuple. Here's an example:\n",
        "\n",
        "   ```python\n",
        "   # Empty tuple\n",
        "   my_tuple = ()\n",
        "\n",
        "   # Tuple with values\n",
        "   my_tuple = (1, 2, 3)\n",
        "\n",
        "   # Using the tuple() function\n",
        "   my_tuple = tuple([1, 2, 3])\n",
        "   ```\n",
        "\n",
        "2. Accessing Tuple Elements:\n",
        "   You can access elements in a tuple using indexing, similar to lists. The index starts from 0 for the first element. Additionally, you can use negative indexing to access elements from the end of the tuple. Here's an example:\n",
        "\n",
        "   ```python\n",
        "   my_tuple = (1, 2, 3, 4, 5)\n",
        "\n",
        "   print(my_tuple[0])  # Output: 1\n",
        "   print(my_tuple[-1])  # Output: 5\n",
        "   ```\n",
        "\n",
        "3. Tuple Slicing:\n",
        "   Like lists, you can use slicing to access a range of elements in a tuple. Slicing returns a new tuple containing the specified elements. Here's an example:\n",
        "\n",
        "   ```python\n",
        "   my_tuple = (1, 2, 3, 4, 5)\n",
        "\n",
        "   print(my_tuple[1:3])  # Output: (2, 3)\n",
        "   print(my_tuple[2:])  # Output: (3, 4, 5)\n",
        "   ```\n",
        "\n",
        "4. Tuple Unpacking:\n",
        "   Tuple unpacking allows you to assign individual elements of a tuple to separate variables. This can be useful when working with functions that return multiple values as a tuple. Here's an example:\n",
        "\n",
        "   ```python\n",
        "   my_tuple = (1, 2, 3)\n",
        "\n",
        "   a, b, c = my_tuple\n",
        "   print(a)  # Output: 1\n",
        "   print(b)  # Output: 2\n",
        "   print(c)  # Output: 3\n",
        "   ```\n",
        "\n",
        "5. Tuple Methods:\n",
        "   Tuples provide a few built-in methods to perform common operations:\n",
        "\n",
        "   - `count(value)`: Returns the number of occurrences of a value in the tuple.\n",
        "   - `index(value)`: Returns the index of the first occurrence of a value in the tuple.\n",
        "\n",
        "   Here's an example:\n",
        "\n",
        "   ```python\n",
        "   my_tuple = (1, 2, 2, 3, 4, 2)\n",
        "\n",
        "   print(my_tuple.count(2))  # Output: 3\n",
        "   print(my_tuple.index(3))  # Output: 3\n",
        "   ```\n",
        "\n",
        "6. Iterating Over a Tuple:\n",
        "   You can use a `for` loop to iterate over the elements of a tuple, similar to lists. Here's an example:\n",
        "\n",
        "   ```python\n",
        "   my_tuple = (1, 2, 3)\n",
        "\n",
        "   for element in my_tuple:\n",
        "       print(element)\n",
        "   ```\n",
        "\n",
        "7. Immutable Nature:\n",
        "   Tuples are immutable, meaning their values cannot be changed after creation. However, you can create new tuples by concatenating or slicing existing tuples. Here's an example:\n",
        "\n",
        "   ```python\n",
        "   my_tuple = (1, 2, 3)\n",
        "   new_tuple = my_tuple + (4, 5)\n",
        "   print(new_tuple)  # Output: (1, 2, 3, 4, 5)\n",
        "   ```\n",
        "\n",
        "These are the basic concepts of tuples\n",
        "\n",
        "References: [chatGPT](https://openai.com/blog/chatgpt)"
      ],
      "metadata": {
        "id": "4H8FMc2gy_Lb"
      }
    },
    {
      "cell_type": "markdown",
      "source": [
        "# What is a List and how is it related to a string?\n",
        "- A list is a collection of data stored in something we traditionally call and array or if you prefer a vector."
      ],
      "metadata": {
        "id": "5CdxiW1xdgUe"
      }
    },
    {
      "cell_type": "code",
      "source": [
        "# For lists we can mix and match data types (this is no permissible in C and C++)\n",
        "list1 = ['Dan', 37, 12.3957, \"Hello_World!\"]\n",
        "# we can print the whole list the same way we just printed the message moments ago.\n",
        "print(list1)\n",
        "\n",
        "\n",
        "\n",
        "# however, what if we only wanted one thing from the list? like 'Dan' or \"Hello_World?'\n",
        "print(list1[0])\n",
        "# Dan\n",
        "\n",
        "# Hello World\n",
        "\n",
        "# This is called accessing an element of the array(aka list)\n",
        "\n",
        "# when you typed in hello_world between the double quotes here's what\n",
        "# the computer is doing with your message under the hood.\n",
        "\n",
        "helloList = ['H','e','l','l','o','_','W','o','r','l','d']\n",
        "\n",
        "print(helloList[0] + helloList[1] +helloList[2] + helloList[3] + helloList[4] +\n",
        "      helloList[5] + helloList[6] +helloList[7] + helloList[8] + helloList[9] +\n",
        "      helloList[10])\n",
        "\n",
        "# An easy way to tell how many elements long is your list\n",
        "# remember that counts start at 0. Even though the total from len is 11,\n",
        "# because of the counting convention it is (n-1) for the list (0 - 10).\n",
        "len(helloList)\n",
        "\n",
        "# what happens if we give the list 11 as an element\n",
        "# helloList[11]"
      ],
      "metadata": {
        "colab": {
          "base_uri": "https://localhost:8080/"
        },
        "id": "jENAfhrhdnER",
        "outputId": "768562ac-5cd5-4ad9-aa90-fa3ad70b1788"
      },
      "execution_count": null,
      "outputs": [
        {
          "output_type": "stream",
          "name": "stdout",
          "text": [
            "['Dan', 37, 12.3957, 'Hello_World!']\n",
            "Dan\n",
            "Hello_World\n"
          ]
        },
        {
          "output_type": "execute_result",
          "data": {
            "text/plain": [
              "11"
            ]
          },
          "metadata": {},
          "execution_count": 11
        }
      ]
    },
    {
      "cell_type": "markdown",
      "source": [
        "# More on Lists\n",
        "- let's say we needed to add something new to a list or remove some entries that weren't relevant to a data set. How would we do this?"
      ],
      "metadata": {
        "id": "hPuYlDxOg7M2"
      }
    },
    {
      "cell_type": "code",
      "source": [
        "# Introducing member functions\n",
        "video_games = [\"Legend of Zelda\", \"Super Mario Odessey\", \"Elden Ring\", \"Zork\", \"Tales of Arise\"]\n",
        "print(video_games)\n",
        "# Maybe we want what at the end of the list first. To do this we can use a member function called .reverse()\n",
        "print(type(video_games))\n",
        "video_games.reverse()\n",
        "print(video_games)\n",
        "\n",
        "# Let's sort our list in ascending alphabetical order NOTE: this only works for lists that have the same data type\n",
        "# list1 above would not be able to use this method for example.\n",
        "video_games.sort()\n",
        "print(video_games)\n",
        "\n",
        "# in descending order\n",
        "video_games.sort(reverse=True)\n",
        "print(video_games)\n",
        "\n",
        "\n",
        "\n",
        "# let's remove Hello_World from our List (it's worn out its welcome!).\n",
        "# list1[3].remove()\n",
        "video_games.remove(\"Legend of Zelda\")\n",
        "video_games.pop()\n",
        "#video_games.\n",
        "# list1.rem-gamesove(0)\n",
        "print(video_games)"
      ],
      "metadata": {
        "colab": {
          "base_uri": "https://localhost:8080/"
        },
        "id": "OtgwVZuWhHrX",
        "outputId": "f4178bd7-98b4-43f0-f213-3fb4abec90ed"
      },
      "execution_count": null,
      "outputs": [
        {
          "output_type": "stream",
          "name": "stdout",
          "text": [
            "['Legend of Zelda', 'Super Mario Odessey', 'Elden Ring', 'Zork', 'Tales of Arise']\n",
            "<class 'list'>\n",
            "['Tales of Arise', 'Zork', 'Elden Ring', 'Super Mario Odessey', 'Legend of Zelda']\n",
            "['Elden Ring', 'Legend of Zelda', 'Super Mario Odessey', 'Tales of Arise', 'Zork']\n",
            "['Zork', 'Tales of Arise', 'Super Mario Odessey', 'Legend of Zelda', 'Elden Ring']\n",
            "['Zork', 'Tales of Arise', 'Super Mario Odessey']\n"
          ]
        }
      ]
    },
    {
      "cell_type": "markdown",
      "source": [
        "# Looping Through Lists: The \"for loop\""
      ],
      "metadata": {
        "id": "ZbtJf6EckG2U"
      }
    },
    {
      "cell_type": "code",
      "source": [
        "# maybe we want to print out each element one at a time from the list instead of just displaying it\n",
        "video_games = [\"Legend of Zelda\", \"Super Mario Odessey\", \"Elden Ring\", \"Zork\", \"Tales of Arise\"]\n",
        "\n",
        "# We could do it this way\n",
        "print(len(video_games))\n",
        "\n",
        "# print(video_games[0])\n",
        "# print(video_games[1])\n",
        "# print(video_games[2])\n",
        "# print(video_games[3])\n",
        "# print(video_games[4])\n",
        "\n",
        "# But what if I told you there was an easier way?\n",
        "# Let's try a for loop!\n",
        "\n",
        "for video_game_title in video_games:\n",
        "  print(video_game_title)"
      ],
      "metadata": {
        "colab": {
          "base_uri": "https://localhost:8080/"
        },
        "id": "zo-2BOO0kLMQ",
        "outputId": "eb3a57df-b8ff-4f9c-8996-064bbfe0c4ce"
      },
      "execution_count": null,
      "outputs": [
        {
          "output_type": "stream",
          "name": "stdout",
          "text": [
            "5\n",
            "Legend of Zelda\n",
            "Super Mario Odessey\n",
            "Elden Ring\n",
            "Zork\n",
            "Tales of Arise\n"
          ]
        }
      ]
    },
    {
      "cell_type": "code",
      "source": [
        "for rank, game in enumerate(video_games, start=1):\n",
        "    print(rank, game)\n",
        "\n",
        "\n",
        "print(list(enumerate(video_games, start=1)))"
      ],
      "metadata": {
        "id": "waMGYoYyZh25",
        "outputId": "79615dc0-b654-442f-cce6-cf9b00bf7af5",
        "colab": {
          "base_uri": "https://localhost:8080/"
        }
      },
      "execution_count": null,
      "outputs": [
        {
          "output_type": "stream",
          "name": "stdout",
          "text": [
            "1 Legend of Zelda\n",
            "2 Super Mario Odessey\n",
            "3 Elden Ring\n",
            "4 Zork\n",
            "5 Tales of Arise\n",
            "[(1, 'Legend of Zelda'), (2, 'Super Mario Odessey'), (3, 'Elden Ring'), (4, 'Zork'), (5, 'Tales of Arise')]\n"
          ]
        }
      ]
    },
    {
      "cell_type": "markdown",
      "source": [
        "# For Loops are iteration based loops\n",
        "- As programmer's we tell the loop how long it needs to repeat a process before it terminates.\n",
        "- For loops on their own are only O(n) time complexity (constant time)\n",
        "- Nested for loops become exponentially expensive for each for loop"
      ],
      "metadata": {
        "id": "eEvwsENClbcF"
      }
    },
    {
      "cell_type": "code",
      "source": [
        "# another way to use a for loop is if you need it for a sequence\n",
        "for i in range(10):\n",
        "  print(i)\n",
        "# notice i started at a value of 0 and stopped at a value (n-1) from the max range value\n",
        "# Lets combine what we learned about lists and combine it with for loops\n",
        "\n",
        "# first let's make an empty list\n",
        "numbers = []\n",
        "\n",
        "# Now we'll make a list of numbers from 0 - 99\n",
        "# How can we set up a for loop to do this for us and make our lives easier?\n",
        "for i in range(0, 10):\n",
        "  numbers.append(i)\n",
        "\n",
        "print(len(numbers))\n",
        "print(numbers)\n",
        "\n",
        "# if we want even numbers from the same list\n",
        "\n",
        "enumbers = []\n",
        "for i in range(0, 100, 2):\n",
        "  enumbers.append(i)\n",
        "\n",
        "print(len(enumbers))\n",
        "print(enumbers)"
      ],
      "metadata": {
        "colab": {
          "base_uri": "https://localhost:8080/"
        },
        "id": "EvW5nfirlpEH",
        "outputId": "a3831ce2-f243-4294-81d1-491221bf18e1"
      },
      "execution_count": null,
      "outputs": [
        {
          "output_type": "stream",
          "name": "stdout",
          "text": [
            "0\n",
            "1\n",
            "2\n",
            "3\n",
            "4\n",
            "5\n",
            "6\n",
            "7\n",
            "8\n",
            "9\n",
            "100\n",
            "[0, 1, 2, 3, 4, 5, 6, 7, 8, 9, 10, 11, 12, 13, 14, 15, 16, 17, 18, 19, 20, 21, 22, 23, 24, 25, 26, 27, 28, 29, 30, 31, 32, 33, 34, 35, 36, 37, 38, 39, 40, 41, 42, 43, 44, 45, 46, 47, 48, 49, 50, 51, 52, 53, 54, 55, 56, 57, 58, 59, 60, 61, 62, 63, 64, 65, 66, 67, 68, 69, 70, 71, 72, 73, 74, 75, 76, 77, 78, 79, 80, 81, 82, 83, 84, 85, 86, 87, 88, 89, 90, 91, 92, 93, 94, 95, 96, 97, 98, 99]\n",
            "50\n",
            "[0, 2, 4, 6, 8, 10, 12, 14, 16, 18, 20, 22, 24, 26, 28, 30, 32, 34, 36, 38, 40, 42, 44, 46, 48, 50, 52, 54, 56, 58, 60, 62, 64, 66, 68, 70, 72, 74, 76, 78, 80, 82, 84, 86, 88, 90, 92, 94, 96, 98]\n"
          ]
        }
      ]
    },
    {
      "cell_type": "markdown",
      "source": [
        "# Let's look at a bit more advanced list called a list of lists or 2D array(matrix)"
      ],
      "metadata": {
        "id": "K42gmowmpirp"
      }
    },
    {
      "cell_type": "code",
      "source": [
        "list2D=[]\n",
        "rows, cols=5,5\n",
        "for i in range(rows):\n",
        "\tcol = []\n",
        "\tfor j in range(cols):\n",
        "\t\tcol.append(i)\n",
        "\tlist2D.append(col)\n",
        "print(list2D)\n"
      ],
      "metadata": {
        "colab": {
          "base_uri": "https://localhost:8080/"
        },
        "id": "lwVkNOHJptIr",
        "outputId": "e2b143fd-ef2f-49e8-f211-9b6250f88820"
      },
      "execution_count": null,
      "outputs": [
        {
          "output_type": "stream",
          "name": "stdout",
          "text": [
            "[[0, 0, 0, 0, 0], [1, 1, 1, 1, 1], [2, 2, 2, 2, 2], [3, 3, 3, 3, 3], [4, 4, 4, 4, 4]]\n"
          ]
        }
      ]
    },
    {
      "cell_type": "code",
      "source": [
        "# cleaner way to show your output as a printed matrix to the terminal.\n",
        "# Go through each row in the 2D list\n",
        "for row in list2D:\n",
        "    # Create an empty string to store the row's content\n",
        "    row_string = \"\"\n",
        "    # Go through each item in the row\n",
        "    for item in row:\n",
        "        # Add the item (converted to a string) to the row string with a space\n",
        "        row_string += str(item) + \" \"\n",
        "\n",
        "    # Print the full row as a single line\n",
        "    print(row_string)\n",
        "\n"
      ],
      "metadata": {
        "id": "1QqhaPl4b2DD",
        "outputId": "2af4fd0a-0479-4507-9ded-39c884d4c23d",
        "colab": {
          "base_uri": "https://localhost:8080/"
        }
      },
      "execution_count": null,
      "outputs": [
        {
          "output_type": "stream",
          "name": "stdout",
          "text": [
            "0 0 0 0 0 \n",
            "1 1 1 1 1 \n",
            "2 2 2 2 2 \n",
            "3 3 3 3 3 \n",
            "4 4 4 4 4 \n"
          ]
        }
      ]
    },
    {
      "cell_type": "markdown",
      "source": [
        "## Iterating through tradional Python arrays is inefficient and costly\n",
        "\n",
        "1. In the above example, we have two for loops making up a 2D array of values. The time cost to generate this list is O(n^2) and as we keep nexting for loops, the time efficiency is effected exponentially.\n",
        "2. What this means for you and your programs is that they will take unescessarily long to run and cost more memory in your computer to do it. This can lead to crashes or system locks(aka the blue screen of death).\n",
        "3. In the case of a 2D or 3D list, we have little choice when we iterate through them. However, we will cover other libraries that can help make our programs more efficient in Python.\n",
        "\n",
        "## For more on 2D lists check out: [GeeksForGeeeks](https://www.geeksforgeeks.org/python-using-2d-arrays-lists-the-right-way/)"
      ],
      "metadata": {
        "id": "nqhMt61frhx-"
      }
    },
    {
      "cell_type": "markdown",
      "source": [
        "# If Statements and Control Flow(Time to Get Discrete!)\n",
        "1. Small Introduction to Formal Logic and Truth Tables"
      ],
      "metadata": {
        "id": "5BjIFUx6o8J1"
      }
    },
    {
      "cell_type": "markdown",
      "source": [
        "In Python, control flow refers to the order in which statements and instructions are executed in a program. It allows you to make decisions and repeat sections of code based on certain conditions. Python provides several control flow statements to facilitate this process. The main control flow statements in Python are:\n",
        "\n",
        "1. Conditional Statements (if, elif, else):\n",
        "   Conditional statements allow you to perform different actions based on different conditions. The `if` statement checks a condition and executes a block of code if the condition is true. Optionally, you can use `elif` (short for \"else if\") to check additional conditions, and `else` to provide a fallback option if none of the previous conditions are true. Here's an example:\n",
        "\n",
        "   ```python\n",
        "   x = 10\n",
        "   if x > 0:\n",
        "       print(\"Positive number\")\n",
        "   elif x == 0:\n",
        "       print(\"Zero\")\n",
        "   else:\n",
        "       print(\"Negative number\")\n",
        "   ```\n",
        "\n",
        "2. Loops:\n",
        "   Loops are used to repeat a block of code multiple times. Python provides two types of loops: `for` and `while`.\n",
        "\n",
        "   - `for` loop: It iterates over a sequence (such as a list, tuple, or string) or any iterable object. The loop variable takes on each value in the sequence. Here's an example:\n",
        "\n",
        "     ```python\n",
        "     fruits = [\"apple\", \"banana\", \"cherry\"]\n",
        "     for fruit in fruits:\n",
        "         print(fruit)\n",
        "     ```\n",
        "\n",
        "   - `while` loop: It repeatedly executes a block of code as long as a given condition is true. The condition is checked before each iteration. Here's an example:\n",
        "\n",
        "     ```python\n",
        "     i = 0\n",
        "     while i < 5:\n",
        "         print(i)\n",
        "         i += 1\n",
        "     ```\n",
        "\n",
        "3. Control Flow Keywords:\n",
        "   Python provides some keywords to modify the flow of control within loops and conditional statements.\n",
        "\n",
        "   - `break`: Terminates the current loop and continues execution at the next statement outside the loop.\n",
        "   - `continue`: Skips the rest of the current iteration and moves to the next iteration of the loop.\n",
        "   - `pass`: It acts as a placeholder and does nothing. It is commonly used as a placeholder for code that will be implemented later.\n",
        "\n",
        "   Here's an example that demonstrates the use of these keywords:\n",
        "\n",
        "   ```python\n",
        "   for i in range(10):\n",
        "       if i == 3:\n",
        "           continue\n",
        "       elif i == 7:\n",
        "           break\n",
        "       else:\n",
        "           pass\n",
        "       print(i)\n",
        "   ```\n",
        "\n",
        "4. Exception Handling (try, except, finally):\n",
        "   Exception handling is used to catch and handle errors or exceptional conditions that may occur during program execution. It helps in gracefully handling errors and prevents the program from crashing. The `try` block contains the code that might raise an exception, and the `except` block catches and handles the specific exception(s). The `finally` block is optional and is always executed, regardless of whether an exception occurred or not. Here's an example:\n",
        "\n",
        "   ```python\n",
        "   try:\n",
        "       x = 10 / 0  # Raises a ZeroDivisionError\n",
        "   except ZeroDivisionError:\n",
        "       print(\"Cannot divide by zero\")\n",
        "   finally:\n",
        "       print(\"This is always executed\")\n",
        "   ```\n",
        "\n",
        "These are the main control flow constructs in Python. By using these statements and keywords effectively, you can control the execution flow and make your programs more flexible and robust.\n",
        "\n",
        "Reference: https://openai.com/blog/chatgpt"
      ],
      "metadata": {
        "id": "atVYVuc1uS4X"
      }
    },
    {
      "cell_type": "code",
      "source": [
        "my_dict = {\"name\": \"John\", \"age\": 30, \"city\": \"New York\"}\n",
        "\n",
        "my_dict[\"age\"] = 35  # Modifying an existing value\n",
        "my_dict[\"country\"] = \"USA\"  # Adding a new key-value pair\n",
        "\n",
        "print(my_dict[\"name\"])"
      ],
      "metadata": {
        "id": "CcSrB2ZNhVMn",
        "outputId": "083497bc-1eaf-45b5-98b8-d63c724f255b",
        "colab": {
          "base_uri": "https://localhost:8080/"
        }
      },
      "execution_count": null,
      "outputs": [
        {
          "output_type": "stream",
          "name": "stdout",
          "text": [
            "John\n"
          ]
        }
      ]
    },
    {
      "cell_type": "code",
      "source": [
        "a = True\n",
        "b = False\n",
        "\n",
        "if a and b:\n",
        "  print(\"true\")\n",
        "else:\n",
        "  print(\"false\")"
      ],
      "metadata": {
        "id": "7buHy-JhiKkM",
        "outputId": "567b36f2-ef09-4a57-eded-c5ad165627af",
        "colab": {
          "base_uri": "https://localhost:8080/"
        }
      },
      "execution_count": null,
      "outputs": [
        {
          "output_type": "stream",
          "name": "stdout",
          "text": [
            "false\n"
          ]
        }
      ]
    },
    {
      "cell_type": "markdown",
      "source": [
        "# Dictionaries\n",
        "\n",
        "Dictionaries are a powerful data structure in Python that store data in key-value pairs. They are mutable, unordered, and allow quick access to values based on their corresponding keys. Here's a beginner-friendly tutorial on Python dictionaries:\n",
        "\n",
        "1. Creating a Dictionary:\n",
        "   To create a dictionary, you enclose comma-separated key-value pairs within curly braces `{}`. Each key is followed by a colon `:` and its corresponding value. Here's an example:\n",
        "\n",
        "   ```python\n",
        "   # Empty dictionary\n",
        "   my_dict = {}\n",
        "\n",
        "   # Dictionary with initial values\n",
        "   my_dict = {\"name\": \"John\", \"age\": 30, \"city\": \"New York\"}\n",
        "   ```\n",
        "\n",
        "2. Accessing Values:\n",
        "   You can access the values in a dictionary by using the corresponding keys inside square brackets `[]`. If a key doesn't exist, it will raise a `KeyError`. Alternatively, you can use the `get()` method, which returns `None` if the key doesn't exist (or a default value if provided). Here's an example:\n",
        "\n",
        "   ```python\n",
        "   my_dict = {\"name\": \"John\", \"age\": 30, \"city\": \"New York\"}\n",
        "\n",
        "   print(my_dict[\"name\"])  # Output: John\n",
        "\n",
        "   # Using get() method\n",
        "   print(my_dict.get(\"age\"))  # Output: 30\n",
        "   print(my_dict.get(\"country\"))  # Output: None\n",
        "   print(my_dict.get(\"country\", \"Unknown\"))  # Output: Unknown\n",
        "   ```\n",
        "\n",
        "3. Modifying and Adding Elements:\n",
        "   Dictionaries are mutable, so you can modify the values of existing keys or add new key-value pairs. To modify a value, access it using its key and assign a new value. To add a new key-value pair, assign a value to a new key that doesn't exist in the dictionary. Here's an example:\n",
        "\n",
        "   ```python\n",
        "   my_dict = {\"name\": \"John\", \"age\": 30, \"city\": \"New York\"}\n",
        "\n",
        "   my_dict[\"age\"] = 35  # Modifying an existing value\n",
        "   my_dict[\"country\"] = \"USA\"  # Adding a new key-value pair\n",
        "\n",
        "   print(my_dict)\n",
        "   # Output: {'name': 'John', 'age': 35, 'city': 'New York', 'country': 'USA'}\n",
        "   ```\n",
        "\n",
        "4. Dictionary Methods:\n",
        "   Python provides several built-in methods to perform common operations on dictionaries:\n",
        "\n",
        "   - `keys()`: Returns a view object containing all the keys.\n",
        "   - `values()`: Returns a view object containing all the values.\n",
        "   - `items()`: Returns a view object containing all the key-value pairs as tuples.\n",
        "   - `pop(key)`: Removes and returns the value associated with the given key.\n",
        "   - `popitem()`: Removes and returns the last inserted key-value pair as a tuple.\n",
        "   - `update(other_dict)`: Updates the dictionary with the key-value pairs from another dictionary.\n",
        "   - `clear()`: Removes all the elements from the dictionary.\n",
        "\n",
        "   Here's an example:\n",
        "\n",
        "   ```python\n",
        "   my_dict = {\"name\": \"John\", \"age\": 30, \"city\": \"New York\"}\n",
        "\n",
        "   print(my_dict.keys())  # Output: dict_keys(['name', 'age', 'city'])\n",
        "   print(my_dict.values())  # Output: dict_values(['John', 30, 'New York'])\n",
        "   print(my_dict.items())  # Output: dict_items([('name', 'John'), ('age', 30), ('city', 'New York')])\n",
        "\n",
        "   my_dict.pop(\"age\")  # Removing a specific key-value pair\n",
        "   print(my_dict)\n",
        "\n",
        "   my_dict.update({\"country\": \"USA\", \"zip\":\n",
        "\n",
        "   Reference: https://openai.com/blog/chatgpt"
      ],
      "metadata": {
        "id": "tYEhOAkgufAN"
      }
    },
    {
      "cell_type": "markdown",
      "source": [
        "# Functions\n",
        "Functions are a fundamental building block in Python that allow you to organize and reuse code. They help improve code readability, modularity, and maintainability. Here's a beginner-friendly tutorial on functions in Python:\n",
        "\n",
        "1. Defining a Function:\n",
        "   To define a function in Python, use the `def` keyword followed by the function name, parentheses `()`, and a colon `:`. The function body is indented and contains the code to be executed when the function is called. Here's an example:\n",
        "\n",
        "   ```python\n",
        "   def greet():\n",
        "       print(\"Hello, world!\")\n",
        "   ```\n",
        "\n",
        "2. Calling a Function:\n",
        "   To execute the code inside a function, you need to call it by using its name followed by parentheses `()`. Here's an example:\n",
        "\n",
        "   ```python\n",
        "   greet()  # Output: Hello, world!\n",
        "   ```\n",
        "\n",
        "3. Function Parameters:\n",
        "   Functions can accept input values called parameters or arguments. You specify parameters inside the parentheses when defining the function. When calling the function, you pass the corresponding values as arguments. Here's an example:\n",
        "\n",
        "   ```python\n",
        "   def greet(name):\n",
        "       print(\"Hello, \" + name + \"!\")\n",
        "\n",
        "   greet(\"Alice\")  # Output: Hello, Alice!\n",
        "   ```\n",
        "\n",
        "4. Return Statement:\n",
        "   Functions can return values using the `return` statement. This allows you to obtain results or computed values from a function. The `return` statement terminates the function execution and sends the specified value back to the caller. Here's an example:\n",
        "\n",
        "   ```python\n",
        "   def add_numbers(a, b):\n",
        "       return a + b\n",
        "\n",
        "   result = add_numbers(3, 5)\n",
        "   print(result)  # Output: 8\n",
        "   ```\n",
        "\n",
        "5. Default Parameters:\n",
        "   You can define default parameter values in a function by assigning them a value in the function definition. If an argument is not provided when calling the function, the default value will be used. Here's an example:\n",
        "\n",
        "   ```python\n",
        "   def greet(name=\"world\"):\n",
        "       print(\"Hello, \" + name + \"!\")\n",
        "\n",
        "   greet()  # Output: Hello, world!\n",
        "   greet(\"Alice\")  # Output: Hello, Alice!\n",
        "   ```\n",
        "\n",
        "6. Variable Number of Arguments:\n",
        "   Functions in Python can accept a variable number of arguments. You can use `*args` to pass a non-keyworded variable-length argument list or `**kwargs` to pass a keyworded variable-length argument list. Here's an example:\n",
        "\n",
        "   ```python\n",
        "   def add_numbers(*args):\n",
        "       total = 0\n",
        "       for num in args:\n",
        "           total += num\n",
        "       return total\n",
        "\n",
        "   result = add_numbers(1, 2, 3, 4)\n",
        "   print(result)  # Output: 10\n",
        "   ```\n",
        "\n",
        "7. Docstrings:\n",
        "   It's good practice to include a docstring in your functions. A docstring is a string that provides a description of the function's purpose, parameters, and return value. It helps other developers understand and use your functions correctly. Here's an example:\n",
        "\n",
        "   ```python\n",
        "   def add_numbers(a, b):\n",
        "       \"\"\"Adds two numbers and returns the sum.\"\"\"\n",
        "       return a + b\n",
        "   ```\n",
        "\n",
        "These are the basic concepts of functions in Python. By utilizing functions, you can break down complex tasks into smaller, manageable parts, promote code reuse, and improve the overall structure of your programs.\n",
        "\n",
        "Reference: https://openai.com/blog/chatgpt"
      ],
      "metadata": {
        "id": "2JujxXU0yWF5"
      }
    },
    {
      "cell_type": "code",
      "source": [
        "import math\n",
        "# Let's Implement The Pythagorean Theorem,.... the hard way\n",
        "# a = 2\n",
        "# b = 3\n",
        "# for programs that will run once, it is a good practice to initialize \"empty variables as 0\"\n",
        "# c = 0\n",
        "\n",
        "# Math!\n",
        "# print(\"The value of a is: \", a)\n",
        "# print(\"The value of b is: \", b)\n",
        "\n",
        "def pythag(a, b):\n",
        "  # Pythagorean Theorem\n",
        "  c = math.sqrt((a * a) + (b * b))\n",
        "  return c\n",
        "\n",
        "results = pythag(2,3)\n",
        "\n",
        "# # What Datatype do you think will be the output?\n",
        "print(\"The hypotenuse is: \", results)\n",
        "\n",
        "# # Let's try casting this to a different datatype\n",
        "print(\"The hypotenuse is: \", int((results)))"
      ],
      "metadata": {
        "id": "O1s0kIZPx3sn",
        "outputId": "c872465a-507d-415f-bd94-6449604434dd",
        "colab": {
          "base_uri": "https://localhost:8080/"
        }
      },
      "execution_count": 38,
      "outputs": [
        {
          "output_type": "stream",
          "name": "stdout",
          "text": [
            "The hypotenuse is:  3.605551275463989\n",
            "The hypotenuse is:  3\n"
          ]
        }
      ]
    },
    {
      "cell_type": "code",
      "source": [
        "def greet():\n",
        "  print(\"Hello World!\")\n",
        "\n",
        "greet()"
      ],
      "metadata": {
        "id": "Dx9CjwtlwoMl",
        "outputId": "4759c49b-7e34-46bb-8b83-fcb49c789158",
        "colab": {
          "base_uri": "https://localhost:8080/"
        }
      },
      "execution_count": null,
      "outputs": [
        {
          "output_type": "stream",
          "name": "stdout",
          "text": [
            "Hello World!\n"
          ]
        }
      ]
    },
    {
      "cell_type": "markdown",
      "source": [
        "# Switch Statements (Case Statement)\n",
        "Here's an example of a case statement implemented in Python using the `switch` statement.\n",
        "\n",
        "\n",
        "\n",
        "In this example, we define four functions representing different cases: `case_one()`, `case_two()`, `case_three()`, and `default_case()`. The `switch_case()` function takes a `case` argument, which is used to determine which function to execute based on the `switch` dictionary. If the `case` value matches one of the keys in the dictionary, the corresponding function is executed. If the `case` value is not found in the dictionary, the `default_case()` function is executed."
      ],
      "metadata": {
        "id": "yNSHuz1bALR6"
      }
    },
    {
      "cell_type": "code",
      "source": [
        "def case_one():\n",
        "    print(\"This is case one.\")\n",
        "\n",
        "def case_two():\n",
        "    print(\"This is case two.\")\n",
        "\n",
        "def case_three():\n",
        "    print(\"This is case three.\")\n",
        "\n",
        "def default_case():\n",
        "    print(\"This is the default case.\")\n",
        "\n",
        "def switch_case(case):\n",
        "    switch = {\n",
        "        1: case_one,\n",
        "        2: case_two,\n",
        "        3: case_three\n",
        "    }\n",
        "    # Get the function from switch dictionary based on the case argument\n",
        "    func = switch.get(case, default_case)\n",
        "    # Execute the function\n",
        "    func()\n",
        "\n",
        "# Test cases\n",
        "switch_case(1)  # Output: This is case one.\n",
        "switch_case(2)  # Output: This is case two.\n",
        "switch_case(3)  # Output: This is case three.\n",
        "switch_case(4)  # Output: This is the default case.\n"
      ],
      "metadata": {
        "id": "ElviapwWATLI",
        "outputId": "06d547fb-bfb0-4e38-8d53-39d7c4fe8381",
        "colab": {
          "base_uri": "https://localhost:8080/"
        }
      },
      "execution_count": 39,
      "outputs": [
        {
          "output_type": "stream",
          "name": "stdout",
          "text": [
            "This is case one.\n",
            "This is case two.\n",
            "This is case three.\n",
            "This is the default case.\n"
          ]
        }
      ]
    },
    {
      "cell_type": "markdown",
      "source": [
        "# Recursion\n",
        "- Is a Function that calls itself until a base case is reached. Once the base case is arrived at, the function \"unwinds it self back to the intitial instance calculating a result."
      ],
      "metadata": {
        "id": "x9A_lL9qSWUh"
      }
    },
    {
      "cell_type": "code",
      "source": [
        "def countdown(i):\n",
        "\tprint(i)\n",
        "\tif i <= 0:\n",
        "\t\treturn\n",
        "\telse:\n",
        "\t\tcountdown(i-1)\n",
        "\n",
        "\n",
        "\n",
        "\n",
        "\n",
        "\n",
        "\n",
        "\n",
        "# Function for nth fibonacci\n",
        "# number - Dynamic Programming\n",
        "# Taking 1st two fibonacci numbers as 0 and 1\n",
        "FibArray = [0, 1]\n",
        "\n",
        "def fibonacci(n):\n",
        "\n",
        "\t# Check is n is less\n",
        "\t# than 0\n",
        "\tif n < 0:\n",
        "\t\tprint(\"Incorrect input\")\n",
        "\n",
        "\t# Check is n is less\n",
        "\t# than len(FibArray)\n",
        "\telif n < len(FibArray):\n",
        "\t\treturn FibArray[n]\n",
        "\telse:\n",
        "\t\tFibArray.append(fibonacci(n - 1) + fibonacci(n - 2))\n",
        "\t\treturn FibArray[n]\n",
        "\n",
        "countdown(3)\n",
        "\n",
        "# Driver Program\n",
        "# print(fibonacci(3))\n",
        "\n",
        "# This code is contributed by Saket Modi\n",
        "# Reference: https:GeeksForGeeks.com"
      ],
      "metadata": {
        "id": "M9TYrfDg-zvs",
        "colab": {
          "base_uri": "https://localhost:8080/"
        },
        "outputId": "6b526f1d-4c55-406e-dec3-7350af6eee56"
      },
      "execution_count": 55,
      "outputs": [
        {
          "output_type": "stream",
          "name": "stdout",
          "text": [
            "3\n",
            "2\n",
            "1\n",
            "0\n"
          ]
        }
      ]
    },
    {
      "cell_type": "markdown",
      "source": [
        "# Reading .csv files into a list\n",
        "To read file data into a 2D list in Python, you can modify the previous approach by splitting each line into individual elements and appending them as a sublist in the main list. Here's an example:\n",
        "\n",
        "```python\n",
        "file_path = \"file.txt\"\n",
        "\n",
        "# Open the file\n",
        "file = open(file_path, \"r\")\n",
        "\n",
        "# Read the file content into a 2D list\n",
        "two_d_list = []\n",
        "for line in file:\n",
        "    line = line.strip()  # Remove leading/trailing whitespace\n",
        "    elements = line.split(\",\")  # Split the line into elements using a delimiter (e.g., comma)\n",
        "    two_d_list.append(elements)\n",
        "\n",
        "# Close the file\n",
        "file.close()\n",
        "\n",
        "# Print the content of the 2D list\n",
        "for sublist in two_d_list:\n",
        "    print(sublist)\n",
        "```\n",
        "\n",
        "In this example, each line from the file is split using the `split()` method, assuming a comma (\",\") as the delimiter. You can replace it with any other delimiter based on your file's format. The resulting elements are then appended as a sublist in the `two_d_list`.\n",
        "\n",
        "Make sure to replace `\"file.txt\"` with the actual path to your file. After reading the file into the `two_d_list`, you can perform various operations on it, such as accessing individual elements using indexing (`two_d_list[row_index][column_index]`).\n",
        "\n",
        "Note that if your file contains non-numeric data that needs to be converted to a specific type (e.g., integers or floats), you can apply type conversion on the elements before appending them to the sublist.\n",
        "\n",
        "Reference: https://openai.com/blog/chatgpt"
      ],
      "metadata": {
        "id": "v3eHUYBayEId"
      }
    },
    {
      "cell_type": "markdown",
      "source": [
        "# Using our first library (Pandas)\n",
        "## The thing that will make data curation much nicer"
      ],
      "metadata": {
        "id": "dfHYcviXw3xZ"
      }
    },
    {
      "cell_type": "code",
      "source": [
        "pip install pandas"
      ],
      "metadata": {
        "id": "HjJy9g9mTZoL",
        "outputId": "a8297569-35f4-4a09-a973-d80cdf3c97e6",
        "colab": {
          "base_uri": "https://localhost:8080/"
        }
      },
      "execution_count": 57,
      "outputs": [
        {
          "output_type": "stream",
          "name": "stdout",
          "text": [
            "Requirement already satisfied: pandas in /usr/local/lib/python3.11/dist-packages (2.2.2)\n",
            "Requirement already satisfied: numpy>=1.23.2 in /usr/local/lib/python3.11/dist-packages (from pandas) (2.0.2)\n",
            "Requirement already satisfied: python-dateutil>=2.8.2 in /usr/local/lib/python3.11/dist-packages (from pandas) (2.9.0.post0)\n",
            "Requirement already satisfied: pytz>=2020.1 in /usr/local/lib/python3.11/dist-packages (from pandas) (2025.2)\n",
            "Requirement already satisfied: tzdata>=2022.7 in /usr/local/lib/python3.11/dist-packages (from pandas) (2025.2)\n",
            "Requirement already satisfied: six>=1.5 in /usr/local/lib/python3.11/dist-packages (from python-dateutil>=2.8.2->pandas) (1.17.0)\n"
          ]
        }
      ]
    },
    {
      "cell_type": "code",
      "source": [
        "import pandas as pd\n",
        "\n",
        "# Load CSV file into a DataFrame\n",
        "df = pd.read_csv(\"/content/Mock_Biological_CSV_Data.csv\")\n",
        "\n",
        "# Show the first 5 rows\n",
        "print(df.head())\n"
      ],
      "metadata": {
        "id": "hiTPyv0FTcqE",
        "outputId": "ae856d98-2f5f-4124-a6e0-b3d382cea992",
        "colab": {
          "base_uri": "https://localhost:8080/"
        }
      },
      "execution_count": 83,
      "outputs": [
        {
          "output_type": "stream",
          "name": "stdout",
          "text": [
            "                              Sample_ID     Gene  Expression_Level  \\\n",
            "0  669ca79f-71ad-4d7a-9e3e-a50f016cc8be  Gene_87               517   \n",
            "1  33a3358e-4bcf-4d73-bf8a-bb8a044ea2cf  Gene_34               490   \n",
            "2  61bfaa06-6636-4908-b442-48ba51676765  Gene_41               528   \n",
            "3  b6394fd2-7b95-4e60-9ee4-3765d545f635  Gene_61               486   \n",
            "4  cfe7b940-6cb0-48ee-b08c-0f8111fa7874  Gene_54               487   \n",
            "\n",
            "  Tissue_Type                  Species Date_Collected  GC_Content  \\\n",
            "0        Skin  Drosophila melanogaster     2024-08-22    1.747881   \n",
            "1       Heart             Mus musculus     2024-02-20    0.395095   \n",
            "2        Lung  Drosophila melanogaster     2024-07-27    0.307499   \n",
            "3      Kidney              Danio rerio     2023-12-18    0.147016   \n",
            "4        Skin             Homo sapiens     2023-12-18    0.165132   \n",
            "\n",
            "   Transcript_Length  Protein_Length  Isoform_Count  ...  Epigenetic_Score  \\\n",
            "0           0.330158        0.709960      -0.882402  ...          0.672535   \n",
            "1          -0.218381        0.108891       0.883107  ...         -0.880450   \n",
            "2           0.279887        0.387366       0.404334  ...         -2.001005   \n",
            "3          -1.349126       -1.336081       0.511138  ...          0.577941   \n",
            "4           0.658008       -1.286035       1.047590  ...         -1.351315   \n",
            "\n",
            "   Methylation_Level  Histone_Mark_Score  Enhancer_Association  TFBS_Count  \\\n",
            "0          -1.146907            0.741469             -0.512965   -0.216792   \n",
            "1          -0.056706           -0.624586             -2.708181   -0.519684   \n",
            "2           0.533235            0.805514              0.743602   -0.937879   \n",
            "3           0.406426           -1.674051             -0.767322   -0.269172   \n",
            "4           0.453684           -0.488020              1.466466   -0.688173   \n",
            "\n",
            "   Allele_Frequency  SNP_Count  Mutation_Rate   Z_Score  Beta_Score  \n",
            "0          0.951541   2.159944      -1.373815 -1.866802    0.087821  \n",
            "1         -2.221702  -0.140355       0.563733 -0.644944    0.365907  \n",
            "2          2.165294   0.170677       1.557371  1.269639    0.040638  \n",
            "3         -0.132173  -1.179305      -0.069881  0.292360   -1.163300  \n",
            "4         -0.299542   1.434177      -1.389853 -2.814218   -0.365322  \n",
            "\n",
            "[5 rows x 53 columns]\n"
          ]
        }
      ]
    },
    {
      "cell_type": "markdown",
      "source": [
        "# Exploring The Dataset"
      ],
      "metadata": {
        "id": "o7l9z7N2UzV2"
      }
    },
    {
      "cell_type": "code",
      "source": [
        "# Basic info about the dataset\n",
        "# print(df.info())\n",
        "\n",
        "# # Summary statistics for numerical columns\n",
        "# print(df.describe())\n",
        "\n",
        "# # View column names\n",
        "# print(df.columns)\n",
        "# print(df.head())"
      ],
      "metadata": {
        "id": "ALKAtkqqUt8q",
        "outputId": "9b7b2fb2-86c3-455f-e848-02b7af822973",
        "colab": {
          "base_uri": "https://localhost:8080/"
        }
      },
      "execution_count": 92,
      "outputs": [
        {
          "output_type": "stream",
          "name": "stdout",
          "text": [
            "                              Sample_ID     Gene  Expression_Level  \\\n",
            "0  669ca79f-71ad-4d7a-9e3e-a50f016cc8be  Gene_87               517   \n",
            "1  33a3358e-4bcf-4d73-bf8a-bb8a044ea2cf  Gene_34               490   \n",
            "2  61bfaa06-6636-4908-b442-48ba51676765  Gene_41               528   \n",
            "3  b6394fd2-7b95-4e60-9ee4-3765d545f635  Gene_61               486   \n",
            "4  cfe7b940-6cb0-48ee-b08c-0f8111fa7874  Gene_54               487   \n",
            "\n",
            "  Tissue_Type                  Species Date_Collected  GC_Content  \\\n",
            "0        Skin  Drosophila melanogaster     2024-08-22    1.747881   \n",
            "1       Heart             Mus musculus     2024-02-20    0.395095   \n",
            "2        Lung  Drosophila melanogaster     2024-07-27    0.307499   \n",
            "3      Kidney              Danio rerio     2023-12-18    0.147016   \n",
            "4        Skin             Homo sapiens     2023-12-18    0.165132   \n",
            "\n",
            "   Transcript_Length  Protein_Length  Isoform_Count  ...  Epigenetic_Score  \\\n",
            "0           0.330158        0.709960      -0.882402  ...          0.672535   \n",
            "1          -0.218381        0.108891       0.883107  ...         -0.880450   \n",
            "2           0.279887        0.387366       0.404334  ...         -2.001005   \n",
            "3          -1.349126       -1.336081       0.511138  ...          0.577941   \n",
            "4           0.658008       -1.286035       1.047590  ...         -1.351315   \n",
            "\n",
            "   Methylation_Level  Histone_Mark_Score  Enhancer_Association  TFBS_Count  \\\n",
            "0          -1.146907            0.741469             -0.512965   -0.216792   \n",
            "1          -0.056706           -0.624586             -2.708181   -0.519684   \n",
            "2           0.533235            0.805514              0.743602   -0.937879   \n",
            "3           0.406426           -1.674051             -0.767322   -0.269172   \n",
            "4           0.453684           -0.488020              1.466466   -0.688173   \n",
            "\n",
            "   Allele_Frequency  SNP_Count  Mutation_Rate   Z_Score  Beta_Score  \n",
            "0          0.951541   2.159944      -1.373815 -1.866802    0.087821  \n",
            "1         -2.221702  -0.140355       0.563733 -0.644944    0.365907  \n",
            "2          2.165294   0.170677       1.557371  1.269639    0.040638  \n",
            "3         -0.132173  -1.179305      -0.069881  0.292360   -1.163300  \n",
            "4         -0.299542   1.434177      -1.389853 -2.814218   -0.365322  \n",
            "\n",
            "[5 rows x 53 columns]\n"
          ]
        }
      ]
    },
    {
      "cell_type": "markdown",
      "source": [
        "# Selecting Specific Datatypes"
      ],
      "metadata": {
        "id": "eKvpDd7hVI1x"
      }
    },
    {
      "cell_type": "code",
      "source": [
        "# Select a specific column\n",
        "print(df['Gene'])\n",
        "\n",
        "# Select multiple columns\n",
        "print(df[['Gene', 'Expression_Level']])\n",
        "\n",
        "# Filter rows (e.g., high expression genes)\n",
        "high_expr = df[df['Expression_Level'] > 1000]\n",
        "print(high_expr)\n"
      ],
      "metadata": {
        "id": "0kRByfIxVJeF",
        "outputId": "759b009f-51c7-4d26-b456-297b643bf2fa",
        "colab": {
          "base_uri": "https://localhost:8080/"
        }
      },
      "execution_count": 62,
      "outputs": [
        {
          "output_type": "stream",
          "name": "stdout",
          "text": [
            "0    Gene_41\n",
            "1    Gene_27\n",
            "2    Gene_37\n",
            "3    Gene_53\n",
            "4    Gene_87\n",
            "Name: Gene, dtype: object\n",
            "      Gene  Expression_Level\n",
            "0  Gene_41               468\n",
            "1  Gene_27               486\n",
            "2  Gene_37               507\n",
            "3  Gene_53               517\n",
            "4  Gene_87               473\n",
            "Empty DataFrame\n",
            "Columns: [Sample_ID, Gene, Expression_Level, Tissue_Type, Species, Date_Collected]\n",
            "Index: []\n"
          ]
        }
      ]
    },
    {
      "cell_type": "markdown",
      "source": [
        "# 📊 Step 5: Grouping and Aggregation"
      ],
      "metadata": {
        "id": "0PACoENxVcVJ"
      }
    },
    {
      "cell_type": "code",
      "source": [
        "# Average expression level by tissue type\n",
        "avg_expr = df.groupby('Tissue_Type')['Expression_Level'].mean()\n",
        "print(avg_expr)\n"
      ],
      "metadata": {
        "id": "tRDpRL2vVeYm",
        "outputId": "51d759e6-8d9c-4271-a089-689d13389c2f",
        "colab": {
          "base_uri": "https://localhost:8080/"
        }
      },
      "execution_count": 67,
      "outputs": [
        {
          "output_type": "stream",
          "name": "stdout",
          "text": [
            "Tissue_Type\n",
            "Brain     468.0\n",
            "Heart     486.0\n",
            "Kidney    517.0\n",
            "Liver     473.0\n",
            "Lung      507.0\n",
            "Name: Expression_Level, dtype: float64\n"
          ]
        }
      ]
    },
    {
      "cell_type": "code",
      "source": [
        "# Save filtered results to a new file\n",
        "avg_expr.to_csv(\"avg_expression_genes.csv\")\n"
      ],
      "metadata": {
        "id": "CHwe17LsVyaw"
      },
      "execution_count": 71,
      "outputs": []
    },
    {
      "cell_type": "code",
      "source": [
        "print(df.head())\n",
        "\n",
        "# Drop two columns: \"Sample_ID\" and \"Date_Collected\"\n",
        "df_bio_dropped = df.drop([\"Sample_ID\", \"Date_Collected\"], axis=1)\n",
        "print(df_bio_dropped.head())\n",
        "\n",
        "# drop rows\n",
        "# Drop rows with index 0 and 1\n",
        "df_dropped_rows = df.drop([0, 1], axis=0)\n",
        "\n",
        "# Show the result\n",
        "print(df_dropped_rows.head())\n",
        "\n",
        "# drop columns with n\\a or no data from the data set\n",
        "df_no_na = df.dropna()\n",
        "\n",
        "\n"
      ],
      "metadata": {
        "id": "m4daDC_HWmni",
        "outputId": "bcb9a35c-a88a-4b97-b321-24472d1a780d",
        "colab": {
          "base_uri": "https://localhost:8080/"
        }
      },
      "execution_count": 77,
      "outputs": [
        {
          "output_type": "stream",
          "name": "stdout",
          "text": [
            "                              Sample_ID     Gene  Expression_Level  \\\n",
            "0  ccbdc0ea-63d1-440a-9493-e7e902c75be4  Gene_41               468   \n",
            "1  1da8fec6-7d84-41bc-88f2-1a0007b6099c  Gene_27               486   \n",
            "2  248d8699-c095-4cd4-ba5a-b8ae3a0dfa3e  Gene_37               507   \n",
            "3  97e65615-ac51-4ff9-8e9b-be89abf4b4e1  Gene_53               517   \n",
            "4  5d3cfc0c-f694-4bef-bf53-98eef6871baf  Gene_87               473   \n",
            "\n",
            "  Tissue_Type                  Species Date_Collected  \n",
            "0       Brain  Drosophila melanogaster     2024-02-07  \n",
            "1       Heart             Homo sapiens     2024-05-21  \n",
            "2        Lung             Homo sapiens     2023-10-16  \n",
            "3      Kidney  Drosophila melanogaster     2023-07-06  \n",
            "4       Liver             Mus musculus     2024-12-01  \n",
            "      Gene  Expression_Level Tissue_Type                  Species\n",
            "0  Gene_41               468       Brain  Drosophila melanogaster\n",
            "1  Gene_27               486       Heart             Homo sapiens\n",
            "2  Gene_37               507        Lung             Homo sapiens\n",
            "3  Gene_53               517      Kidney  Drosophila melanogaster\n",
            "4  Gene_87               473       Liver             Mus musculus\n",
            "                              Sample_ID     Gene  Expression_Level  \\\n",
            "2  248d8699-c095-4cd4-ba5a-b8ae3a0dfa3e  Gene_37               507   \n",
            "3  97e65615-ac51-4ff9-8e9b-be89abf4b4e1  Gene_53               517   \n",
            "4  5d3cfc0c-f694-4bef-bf53-98eef6871baf  Gene_87               473   \n",
            "\n",
            "  Tissue_Type                  Species Date_Collected  \n",
            "2        Lung             Homo sapiens     2023-10-16  \n",
            "3      Kidney  Drosophila melanogaster     2023-07-06  \n",
            "4       Liver             Mus musculus     2024-12-01  \n"
          ]
        }
      ]
    },
    {
      "cell_type": "markdown",
      "source": [
        "# Matplot lib"
      ],
      "metadata": {
        "id": "S1sfUrIiMkHM"
      }
    },
    {
      "cell_type": "code",
      "source": [
        "# 📦 Import Required Libraries\n",
        "!pip install matplotlib\n",
        "\n",
        "import pandas as pd\n",
        "import matplotlib.pyplot as plt\n",
        "\n",
        "# 🖼️ Set Plot Display Settings\n",
        "plt.rcParams[\"figure.figsize\"] = [7.00, 3.50]\n",
        "plt.rcParams[\"figure.autolayout\"] = True\n",
        "\n",
        "# 🧬 Load the Biological Data\n",
        "dataFrame = pd.read_csv(\"/content/Mock_Biological_CSV_Data.csv\")\n",
        "\n",
        "# 🧾 Preview the Data\n",
        "print(\"Preview of Biological Data:\")\n",
        "print(dataFrame[[\"Gene\", \"Expression_Level\", \"Tissue_Type\"]].head())\n",
        "\n",
        "# 📊 Plot a Histogram of Expression Levels\n",
        "plt.hist(dataFrame[\"Expression_Level\"], bins=20, color=\"lightgreen\", edgecolor=\"black\")\n",
        "\n",
        "# 🏷️ Add Labels and Title\n",
        "plt.title(\"Distribution of Gene Expression Levels\")\n",
        "plt.xlabel(\"Expression Level\")\n",
        "plt.ylabel(\"Number of Genes\")\n",
        "\n",
        "# 📈 Show the Plot\n",
        "plt.show()\n"
      ],
      "metadata": {
        "colab": {
          "base_uri": "https://localhost:8080/",
          "height": 669
        },
        "id": "WjBrY1e2M7aW",
        "outputId": "dc5ef8d7-1434-4925-b3cd-fc97901fe594"
      },
      "execution_count": 96,
      "outputs": [
        {
          "output_type": "stream",
          "name": "stdout",
          "text": [
            "Requirement already satisfied: matplotlib in /usr/local/lib/python3.11/dist-packages (3.10.0)\n",
            "Requirement already satisfied: contourpy>=1.0.1 in /usr/local/lib/python3.11/dist-packages (from matplotlib) (1.3.2)\n",
            "Requirement already satisfied: cycler>=0.10 in /usr/local/lib/python3.11/dist-packages (from matplotlib) (0.12.1)\n",
            "Requirement already satisfied: fonttools>=4.22.0 in /usr/local/lib/python3.11/dist-packages (from matplotlib) (4.58.0)\n",
            "Requirement already satisfied: kiwisolver>=1.3.1 in /usr/local/lib/python3.11/dist-packages (from matplotlib) (1.4.8)\n",
            "Requirement already satisfied: numpy>=1.23 in /usr/local/lib/python3.11/dist-packages (from matplotlib) (2.0.2)\n",
            "Requirement already satisfied: packaging>=20.0 in /usr/local/lib/python3.11/dist-packages (from matplotlib) (24.2)\n",
            "Requirement already satisfied: pillow>=8 in /usr/local/lib/python3.11/dist-packages (from matplotlib) (11.2.1)\n",
            "Requirement already satisfied: pyparsing>=2.3.1 in /usr/local/lib/python3.11/dist-packages (from matplotlib) (3.2.3)\n",
            "Requirement already satisfied: python-dateutil>=2.7 in /usr/local/lib/python3.11/dist-packages (from matplotlib) (2.9.0.post0)\n",
            "Requirement already satisfied: six>=1.5 in /usr/local/lib/python3.11/dist-packages (from python-dateutil>=2.7->matplotlib) (1.17.0)\n",
            "Preview of Biological Data:\n",
            "      Gene  Expression_Level Tissue_Type\n",
            "0  Gene_87               517        Skin\n",
            "1  Gene_34               490       Heart\n",
            "2  Gene_41               528        Lung\n",
            "3  Gene_61               486      Kidney\n",
            "4  Gene_54               487        Skin\n"
          ]
        },
        {
          "output_type": "display_data",
          "data": {
            "text/plain": [
              "<Figure size 700x350 with 1 Axes>"
            ],
            "image/png": "[encoded data removed]"
          },
          "metadata": {}
        }
      ]
    },
    {
      "cell_type": "markdown",
      "source": [
        "# Numpy"
      ],
      "metadata": {
        "id": "fg362_sdcE6m"
      }
    },
    {
      "cell_type": "code",
      "source": [
        "!pip install numpy\n",
        "import numpy as np\n",
        "\n",
        "x = np.array([[1,2], [3,4]])\n",
        "'''\n",
        "[1, 2]\n",
        "[3, 4]\n",
        "'''\n",
        "print(np.sum(x)) # compute sum of all elements\n",
        "print(np.sum(x, axis=0)) # sum of each column\n",
        "print(np.sum(x, axis=1)) # sum of each row\n",
        "\n",
        "\n",
        "print(np.sum(x[:,0])) # computes sum of column 0\n",
        "print(x[:,0].sum()) # same as line above"
      ],
      "metadata": {
        "id": "WcNMPkN3cJ13",
        "outputId": "53923898-40e0-4647-b727-1df06b82e77c",
        "colab": {
          "base_uri": "https://localhost:8080/"
        }
      },
      "execution_count": 97,
      "outputs": [
        {
          "output_type": "stream",
          "name": "stdout",
          "text": [
            "Requirement already satisfied: numpy in /usr/local/lib/python3.11/dist-packages (2.0.2)\n",
            "10\n",
            "[4 6]\n",
            "[3 7]\n",
            "4\n",
            "4\n"
          ]
        }
      ]
    },
    {
      "cell_type": "markdown",
      "source": [
        "# Bash Scripting"
      ],
      "metadata": {
        "id": "RhC5qValRDWq"
      }
    },
    {
      "cell_type": "markdown",
      "source": [
        "\n",
        "\n",
        " Bash (Bourne Again SHell) is a popular scripting language used in Unix and Unix-like operating systems. It's a powerful tool for automating tasks and running command-line operations. Let's get started with the basics:\n",
        "\n",
        "1. Shebang:\n",
        "   Every bash script begins with a shebang line, which tells the system the path to the interpreter. Typically, it is `#!/bin/bash`. It ensures that the script is executed using the Bash shell.\n",
        "\n",
        "2. Variables:\n",
        "   Bash uses variables to store values. To assign a value to a variable, use the following syntax:\n",
        "   ```bash\n",
        "   variable_name=value\n",
        "   ```\n",
        "\n",
        "3. Comments:\n",
        "   Comments are lines in a script that are not executed but provide useful information. They start with the `#` character.\n",
        "\n",
        "4. Printing to the Terminal:\n",
        "   To display messages or variable values in the terminal, use the `echo` command:\n",
        "   ```bash\n",
        "   echo \"Hello, World!\"\n",
        "   ```\n",
        "\n",
        "5. Input from Users:\n",
        "   You can prompt the user for input and store it in a variable using the `read` command:\n",
        "   ```bash\n",
        "   echo \"What's your name?\"\n",
        "   read name\n",
        "   echo \"Hello, $name!\"\n",
        "   ```\n",
        "\n",
        "6. Conditionals:\n",
        "   Bash supports if-else statements for conditional execution. Here's a simple example:\n",
        "   ```bash\n",
        "   if [ $age -ge 18 ]; then\n",
        "       echo \"You are an adult.\"\n",
        "   else\n",
        "       echo \"You are a minor.\"\n",
        "   fi\n",
        "   ```\n",
        "\n",
        "7. Loops:\n",
        "   Bash provides different types of loops, such as `for`, `while`, and `until`. Here's an example of a `for` loop:\n",
        "   ```bash\n",
        "   for i in {1..5}; do\n",
        "       echo $i\n",
        "   done\n",
        "   ```\n",
        "\n",
        "8. Command Substitution:\n",
        "   You can capture the output of a command and assign it to a variable using command substitution. Here's an example:\n",
        "   ```bash\n",
        "   current_date=$(date +%Y-%m-%d)\n",
        "   echo \"Today's date is $current_date\"\n",
        "   ```\n",
        "\n",
        "9. Functions:\n",
        "   Functions allow you to define reusable blocks of code. Here's an example:\n",
        "   ```bash\n",
        "   greet() {\n",
        "       echo \"Hello, $1!\"\n",
        "   }\n",
        "   greet \"Alice\"\n",
        "   ```\n",
        "\n",
        "10. Running Scripts:\n",
        "    Save your script with a `.sh` extension and make it executable using the `chmod` command:\n",
        "    ```bash\n",
        "    chmod +x script.sh\n",
        "    ./script.sh\n",
        "    ```\n",
        "\n",
        "This is just a brief overview of bash scripting. You can explore more advanced topics like file handling, string manipulation, and regular expressions. I recommend referring to online tutorials and the bash documentation for further learning.\n",
        "\n",
        "Tutorial Outline Reference:[chatGPT](https://chat.openai.com/)\n",
        "\n"
      ],
      "metadata": {
        "id": "6kjecgzGRG5C"
      }
    },
    {
      "cell_type": "markdown",
      "source": [
        "# Example Bash Script\n",
        "\n",
        "\n",
        "\n",
        "```\n",
        "#!/bin/bash\n",
        "# ^ this is the shegbang and is required at the start of every bash script\n",
        "# run your foldex or command line processes\n",
        "ls -a\n",
        "\n",
        "# assign the exit status to a variable\n",
        "exit_status=$?\n",
        "\n",
        "# Write the exit status to a new file\n",
        "echo $exit_status > exit_status.txt\n",
        "# make sure you exit the program successfully with output to the terminal\n",
        "echo $exit_status\n",
        "```\n",
        "\n"
      ],
      "metadata": {
        "id": "Fhj4cQDPR29C"
      }
    },
    {
      "cell_type": "markdown",
      "source": [
        "# Run Your Bash Scripts Using Python"
      ],
      "metadata": {
        "id": "Aak0GZtzXxdz"
      }
    },
    {
      "cell_type": "markdown",
      "source": [
        "You can run bash scripts from Python using the `subprocess` module. The `subprocess` module provides functionality for spawning new processes, connecting to their input/output/error pipes, and obtaining their return codes. Here's an example of how you can run a bash script from Python:\n",
        "\n",
        "```python\n",
        "import subprocess\n",
        "\n",
        "# Run a bash script\n",
        "script_path = \"/path/to/script.sh\"\n",
        "subprocess.run([\"bash\", script_path])\n",
        "```\n",
        "\n",
        "In the above example, replace `/path/to/script.sh` with the actual path to your bash script. The `subprocess.run()` function is used to execute the script. It takes a list of command-line arguments as its first argument. In this case, we pass `[\"bash\", script_path]` to run the bash interpreter and execute the specified script.\n",
        "\n",
        "You can also capture the output and error messages generated by the bash script by using the `subprocess.run()` function with additional parameters. Here's an example:\n",
        "\n",
        "```python\n",
        "import subprocess\n",
        "\n",
        "# Run a bash script and capture output and errors\n",
        "script_path = \"/path/to/script.sh\"\n",
        "result = subprocess.run([\"bash\", script_path], capture_output=True, text=True)\n",
        "\n",
        "# Print the output and errors\n",
        "print(\"Output:\", result.stdout)\n",
        "print(\"Errors:\", result.stderr)\n",
        "```\n",
        "\n",
        "In this example, we added the `capture_output=True` parameter to capture the output and errors generated by the script. We also set `text=True` to get the output and errors as strings. The `result` variable will contain the captured output and errors, which you can access using `result.stdout` and `result.stderr`, respectively.\n",
        "\n",
        "You can further customize the behavior of running the script by exploring the various parameters and methods provided by the `subprocess` module."
      ],
      "metadata": {
        "id": "U7JGs8B0Yu40"
      }
    },
    {
      "cell_type": "code",
      "source": [
        "import subprocess\n",
        "#script_path = \"test.sh\"\n",
        "\n",
        "# if you know that you have more than one bash script put their paths in a list\n",
        "scripts = [\"test0.sh\", \"test1.sh\", \"test2.sh\"]\n",
        "\n",
        "# # single script\n",
        "# result = subprocess.run([\"bash\", script_path], capture_output=True, text=True)\n",
        "\n",
        "# if result.returncode == 0:\n",
        "#   print(\"Running Process \", script)\n",
        "# else:\n",
        "#   # halt the program and exit because something went wrong\n",
        "#   print(\"uh-oh something went wrong! \")\n",
        "#   exit(1)\n",
        "\n",
        "\n",
        "for script in range(len(scripts)):\n",
        "  results = subprocess.run([\"bash\", scripts[script]], capture_output=True, text=True)\n",
        "  if results.returncode == 0:\n",
        "    print(\"Running Process \", script)\n",
        "    print(results)\n",
        "  else:\n",
        "  # halt the program and exit because something went wrong\n",
        "    print(\"uh-oh something went wrong! \")\n",
        "    exit(1)"
      ],
      "metadata": {
        "id": "mnVSu00-Y0k_",
        "outputId": "7d526e13-f847-4daa-d65a-3b31072e4201",
        "colab": {
          "base_uri": "https://localhost:8080/"
        }
      },
      "execution_count": null,
      "outputs": [
        {
          "output_type": "stream",
          "name": "stdout",
          "text": [
            "Running Process  0\n",
            "CompletedProcess(args=['bash', 'test0.sh'], returncode=0, stdout='.\\n..\\nall_quakes_all_month.csv\\n.config\\nnew_data.csv\\nsample_data\\ntest0.sh\\ntest1.sh\\ntest2.sh\\n', stderr='')\n",
            "Running Process  1\n",
            "CompletedProcess(args=['bash', 'test1.sh'], returncode=0, stdout='.\\n..\\nall_quakes_all_month.csv\\n.config\\nexit_status.txt\\nnew_data.csv\\nsample_data\\ntest0.sh\\ntest1.sh\\ntest2.sh\\n', stderr='')\n",
            "Running Process  2\n",
            "CompletedProcess(args=['bash', 'test2.sh'], returncode=0, stdout='.\\n..\\nall_quakes_all_month.csv\\n.config\\nexit_status1.txt\\nexit_status.txt\\nnew_data.csv\\nsample_data\\ntest0.sh\\ntest1.sh\\ntest2.sh\\n', stderr='')\n"
          ]
        }
      ]
    }
  ]
}