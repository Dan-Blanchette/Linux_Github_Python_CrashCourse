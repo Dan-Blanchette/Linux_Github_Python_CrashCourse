{
  "nbformat": 4,
  "nbformat_minor": 0,
  "metadata": {
    "colab": {
      "provenance": [],
      "authorship_tag": "ABX9TyPxWHV0h5cebM+CN3hBPFZt",
      "include_colab_link": true
    },
    "kernelspec": {
      "name": "python3",
      "display_name": "Python 3"
    },
    "language_info": {
      "name": "python"
    }
  },
  "cells": [
    {
      "cell_type": "markdown",
      "metadata": {
        "id": "view-in-github",
        "colab_type": "text"
      },
      "source": [
        "<a href=\"https://colab.research.google.com/github/Dan-Blanchette/Linux_Github_Python_CrashCourse/blob/main/GitHub_Tutorial.ipynb\" target=\"_parent\"><img src=\"https://colab.research.google.com/assets/colab-badge.svg\" alt=\"Open In Colab\"/></a>"
      ]
    },
    {
      "cell_type": "markdown",
      "source": [
        "# Here's a basic workflow outline for new users on GitHub:\n",
        "## Creating a GitHub Account and Your First Repo\n",
        "1. Sign up for an account: Visit the GitHub website (github.com) and sign up for a new account by providing your desired username, email address, and password.\n",
        "\n",
        "2. Create a new repository: Once you're logged in, click on the \"+\" icon on the top-right corner of the GitHub dashboard and select \"New repository.\" Give your repository a name, choose whether it should be public or private, and click on the \"Create repository\" button.\n",
        "\n",
        "3. Clone the repository: To work on your repository locally, you need to clone it to your computer. Click on the green \"Code\" button on your repository page and copy the repository's URL. Open your terminal/command prompt, navigate to the directory where you want to store the repository, and use the following command to clone it:\n",
        "```\n",
        "git clone <repository_url>\n",
        "```\n",
        "\n",
        "# Workflow Settings\n",
        "4. Make changes to your code: Use your preferred code editor to make changes to the files in your repository. Add new files, modify existing ones, or delete files as needed.\n",
        "\n",
        "5. Stage and commit changes: After making your desired changes, you need to stage them for commit. Use the following command within your repository's directory:\n",
        "```\n",
        "git add .\n",
        "```\n",
        "This command stages all the changes in your repository. You can also specify individual files or directories instead of using the dot (.) to stage specific changes.\n",
        "Next, commit the changes with a meaningful message using the following command:\n",
        "```\n",
        "git commit -m \"Your commit message here\"\n",
        "```\n",
        "\n",
        "6. Push changes to GitHub: Once your changes are committed, you can push them to your GitHub repository using the following command:\n",
        "```\n",
        "git push origin main\n",
        "```\n",
        "This command pushes your changes to the \"main\" branch. If your repository uses a different branch as the main branch, replace \"main\" with the appropriate branch name.\n",
        "\n",
        "7. Pull changes from GitHub (optional): If you're collaborating with others or working on multiple devices, it's a good practice to pull the latest changes from GitHub before starting your work. Use the following command within your repository's directory:\n",
        "```\n",
        "git pull origin main\n",
        "```\n",
        "This command pulls the latest changes from the \"main\" branch. Again, replace \"main\" if your repository uses a different branch as the main branch.\n",
        "\n",
        "### That's a basic outline of the workflow for new users on GitHub. As you become more familiar with GitHub, you can explore advanced features like branching, merging, creating pull requests, and more.\n",
        "\n",
        "#### References: https://openai.com/blog/chatgpt (chatGPT)"
      ],
      "metadata": {
        "id": "xyR0MS2CKW9T"
      }
    }
  ]
}